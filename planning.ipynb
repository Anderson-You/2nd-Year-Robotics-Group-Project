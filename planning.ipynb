{
 "cells": [
  {
   "cell_type": "code",
   "execution_count": 1,
   "id": "otherwise-aircraft",
   "metadata": {},
   "outputs": [],
   "source": [
    "%config Completer.use_jedi = False\n",
    "import numpy as np\n"
   ]
  },
  {
   "cell_type": "code",
   "execution_count": null,
   "id": "following-plastic",
   "metadata": {},
   "outputs": [],
   "source": []
  },
  {
   "cell_type": "code",
   "execution_count": 2,
   "id": "latin-warrior",
   "metadata": {},
   "outputs": [],
   "source": [
    "grid = np.zeros((18,18))\n",
    "grid[5,7] = 1\n",
    "grid[4,8] = 2\n",
    "grid[3,9] = 3"
   ]
  },
  {
   "cell_type": "code",
   "execution_count": 3,
   "id": "disturbed-loading",
   "metadata": {},
   "outputs": [
    {
     "data": {
      "text/plain": [
       "<matplotlib.image.AxesImage at 0x7f80d1e8b630>"
      ]
     },
     "execution_count": 3,
     "metadata": {},
     "output_type": "execute_result"
    },
    {
     "data": {
      "image/png": "[encoded data removed]",
      "text/plain": [
       "<Figure size 288x288 with 1 Axes>"
      ]
     },
     "metadata": {
      "needs_background": "light"
     },
     "output_type": "display_data"
    }
   ],
   "source": [
    "import matplotlib.pyplot as plt\n",
    "plt.matshow(grid)"
   ]
  },
  {
   "cell_type": "code",
   "execution_count": null,
   "id": "caring-closing",
   "metadata": {},
   "outputs": [
    {
     "name": "stdout",
     "output_type": "stream",
     "text": [
      "Unable to register with master node [http://localhost:11311]: master may not be running yet. Will keep trying.\n"
     ]
    }
   ],
   "source": [
    "import rospy as rp\n",
    "from sensor_msgs.msg import LaserScan\n",
    "from nav_msgs.msg import Odometry\n",
    "rp.init_node('runner')"
   ]
  },
  {
   "cell_type": "code",
   "execution_count": 3,
   "id": "copyrighted-neutral",
   "metadata": {},
   "outputs": [],
   "source": [
    "import time\n",
    "\n",
    "sc = None\n",
    "\n",
    "def setSc(x):\n",
    "    global sc\n",
    "    sc = x.ranges\n",
    "    \n",
    "odom = None\n",
    "\n",
    "def setOdom(o):\n",
    "    global odom\n",
    "    odom = o\n",
    "\n",
    "scans = rp.Subscriber(\"/scan\",LaserScan,setSc)\n",
    "os = rp.Subscriber(\"/odom\",Odometry,setOdom)\n",
    "\n",
    "while sc == None:\n",
    "    time.sleep(1)\n",
    "\n",
    "scans.unregister()\n",
    "os.unregister()"
   ]
  },
  {
   "cell_type": "code",
   "execution_count": 60,
   "id": "copyrighted-longitude",
   "metadata": {},
   "outputs": [],
   "source": [
    "sc = [-np.inf]*360"
   ]
  },
  {
   "cell_type": "code",
   "execution_count": 96,
   "id": "ranking-richmond",
   "metadata": {},
   "outputs": [],
   "source": [
    "fidelty = 10\n",
    "\n",
    "pos = np.array([1.5*fidelty,1.5*fidelty]).astype(np.int)\n",
    "grid = np.ones((6*fidelty,6*fidelty))\n",
    "goal = np.array([4.*fidelty,3.2*fidelty]).astype(np.int)\n",
    "grid[pos[0],pos[1]] = -5\n",
    "grid[goal[0],goal[1]] = -10\n",
    "#grid[4,8] = 2\n",
    "#grid[3,9] = 3\n",
    "\n",
    "offset = 0#int(get_rotation(odom))-90\n",
    "\n",
    "for alpha in range(len(sc)):    \n",
    "    c = sc[alpha]\n",
    "    \n",
    "    rad = np.deg2rad((alpha+offset)%360)\n",
    "    \n",
    "    if np.abs(c) == np.inf:\n",
    "        continue\n",
    "    \n",
    "    a = (c * np.sin(rad))*fidelty\n",
    "    b = (c * np.cos(rad))*fidelty\n",
    "    \n",
    "    idx = (pos-np.array([b,a])).astype(np.int)\n",
    "    \n",
    "   # print(idx)\n",
    "        \n",
    "    grid[idx[0],idx[1]] = 10\n",
    "    #print(idx.astype(np.int))"
   ]
  },
  {
   "cell_type": "code",
   "execution_count": 113,
   "id": "ceramic-generator",
   "metadata": {},
   "outputs": [],
   "source": [
    "grid[25,:35] = 10\n",
    "a = 25\n",
    "b = 35\n",
    "\n",
    "for i in range(10):\n",
    "    grid[a-i-1,b+i] = 10\n",
    "    grid[a-i,b+i] = 10"
   ]
  },
  {
   "cell_type": "code",
   "execution_count": 114,
   "id": "valuable-persian",
   "metadata": {},
   "outputs": [
    {
     "data": {
      "text/plain": [
       "<matplotlib.image.AxesImage at 0x7f80c8e640b8>"
      ]
     },
     "execution_count": 114,
     "metadata": {},
     "output_type": "execute_result"
    },
    {
     "data": {
      "image/png": "[encoded data removed]",
      "text/plain": [
       "<Figure size 288x288 with 1 Axes>"
      ]
     },
     "metadata": {
      "needs_background": "light"
     },
     "output_type": "display_data"
    }
   ],
   "source": [
    "import matplotlib.pyplot as plt\n",
    "plt.matshow(grid)"
   ]
  },
  {
   "cell_type": "code",
   "execution_count": 1,
   "id": "successful-blanket",
   "metadata": {},
   "outputs": [],
   "source": [
    "def dist(x,y,a,b):\n",
    "    #print(s)\n",
    "    return np.sqrt((x-a)**2+(b-y)**2)\n",
    "\n",
    "\n",
    "def h(p):\n",
    "    return dist(p[0],p[1],goal[0],goal[1])\n",
    "\n",
    "def heuristic(x,y):\n",
    "    return dist(x,y,goal[0],goal[1])\n",
    "\n",
    "def cost(x,y):\n",
    "    return dist(x,y,goal[0],goal[1])#dist(x,y,pos[0],pos[1])#*grid[x,y]"
   ]
  },
  {
   "cell_type": "code",
   "execution_count": 2,
   "id": "minimal-saskatchewan",
   "metadata": {},
   "outputs": [
    {
     "ename": "NameError",
     "evalue": "name 'np' is not defined",
     "output_type": "error",
     "traceback": [
      "\u001b[0;31m---------------------------------------------------------------------------\u001b[0m",
      "\u001b[0;31mNameError\u001b[0m                                 Traceback (most recent call last)",
      "\u001b[0;32m<ipython-input-2-a1e777ce2ad8>\u001b[0m in \u001b[0;36m<module>\u001b[0;34m\u001b[0m\n\u001b[0;32m----> 1\u001b[0;31m \u001b[0mfield\u001b[0m \u001b[0;34m=\u001b[0m \u001b[0mnp\u001b[0m\u001b[0;34m.\u001b[0m\u001b[0mzeros\u001b[0m\u001b[0;34m(\u001b[0m\u001b[0;34m(\u001b[0m\u001b[0;36m6\u001b[0m\u001b[0;34m*\u001b[0m\u001b[0mfidelty\u001b[0m\u001b[0;34m,\u001b[0m\u001b[0;36m6\u001b[0m\u001b[0;34m*\u001b[0m\u001b[0mfidelty\u001b[0m\u001b[0;34m)\u001b[0m\u001b[0;34m)\u001b[0m\u001b[0;34m\u001b[0m\u001b[0;34m\u001b[0m\u001b[0m\n\u001b[0m",
      "\u001b[0;31mNameError\u001b[0m: name 'np' is not defined"
     ]
    }
   ],
   "source": [
    "field = np.zeros((6*fidelty,6*fidelty))"
   ]
  },
  {
   "cell_type": "code",
   "execution_count": 3,
   "id": "afraid-juvenile",
   "metadata": {},
   "outputs": [
    {
     "ename": "NameError",
     "evalue": "name 'fidelty' is not defined",
     "output_type": "error",
     "traceback": [
      "\u001b[0;31m---------------------------------------------------------------------------\u001b[0m",
      "\u001b[0;31mNameError\u001b[0m                                 Traceback (most recent call last)",
      "\u001b[0;32m<ipython-input-3-905ee7cb7479>\u001b[0m in \u001b[0;36m<module>\u001b[0;34m\u001b[0m\n\u001b[0;32m----> 1\u001b[0;31m \u001b[0;32mfor\u001b[0m \u001b[0mi\u001b[0m \u001b[0;32min\u001b[0m \u001b[0mrange\u001b[0m\u001b[0;34m(\u001b[0m\u001b[0;36m6\u001b[0m\u001b[0;34m*\u001b[0m\u001b[0mfidelty\u001b[0m\u001b[0;34m)\u001b[0m\u001b[0;34m:\u001b[0m\u001b[0;34m\u001b[0m\u001b[0;34m\u001b[0m\u001b[0m\n\u001b[0m\u001b[1;32m      2\u001b[0m     \u001b[0;32mfor\u001b[0m \u001b[0mj\u001b[0m \u001b[0;32min\u001b[0m \u001b[0mrange\u001b[0m\u001b[0;34m(\u001b[0m\u001b[0;36m6\u001b[0m\u001b[0;34m*\u001b[0m\u001b[0mfidelty\u001b[0m\u001b[0;34m)\u001b[0m\u001b[0;34m:\u001b[0m\u001b[0;34m\u001b[0m\u001b[0;34m\u001b[0m\u001b[0m\n\u001b[1;32m      3\u001b[0m         \u001b[0mval\u001b[0m \u001b[0;34m=\u001b[0m \u001b[0mcost\u001b[0m\u001b[0;34m(\u001b[0m\u001b[0mi\u001b[0m\u001b[0;34m,\u001b[0m\u001b[0mj\u001b[0m\u001b[0;34m)\u001b[0m\u001b[0;34m+\u001b[0m\u001b[0mheuristic\u001b[0m\u001b[0;34m(\u001b[0m\u001b[0mi\u001b[0m\u001b[0;34m,\u001b[0m\u001b[0mj\u001b[0m\u001b[0;34m)\u001b[0m\u001b[0;34m\u001b[0m\u001b[0;34m\u001b[0m\u001b[0m\n\u001b[1;32m      4\u001b[0m         \u001b[0mfield\u001b[0m\u001b[0;34m[\u001b[0m\u001b[0mi\u001b[0m\u001b[0;34m,\u001b[0m\u001b[0mj\u001b[0m\u001b[0;34m]\u001b[0m \u001b[0;34m=\u001b[0m \u001b[0mval\u001b[0m\u001b[0;34m\u001b[0m\u001b[0;34m\u001b[0m\u001b[0m\n",
      "\u001b[0;31mNameError\u001b[0m: name 'fidelty' is not defined"
     ]
    }
   ],
   "source": [
    "for i in range(6*fidelty):\n",
    "    for j in range(6*fidelty):\n",
    "        val = cost(i,j)+heuristic(i,j)\n",
    "        field[i,j] = val"
   ]
  },
  {
   "cell_type": "code",
   "execution_count": 4,
   "id": "circular-exclusion",
   "metadata": {},
   "outputs": [
    {
     "ename": "NameError",
     "evalue": "name 'plt' is not defined",
     "output_type": "error",
     "traceback": [
      "\u001b[0;31m---------------------------------------------------------------------------\u001b[0m",
      "\u001b[0;31mNameError\u001b[0m                                 Traceback (most recent call last)",
      "\u001b[0;32m<ipython-input-4-f4688ae623c9>\u001b[0m in \u001b[0;36m<module>\u001b[0;34m\u001b[0m\n\u001b[0;32m----> 1\u001b[0;31m \u001b[0mplt\u001b[0m\u001b[0;34m.\u001b[0m\u001b[0mmatshow\u001b[0m\u001b[0;34m(\u001b[0m\u001b[0mfield\u001b[0m\u001b[0;34m,\u001b[0m \u001b[0mcmap\u001b[0m\u001b[0;34m=\u001b[0m\u001b[0;34m'jet'\u001b[0m\u001b[0;34m)\u001b[0m\u001b[0;34m\u001b[0m\u001b[0;34m\u001b[0m\u001b[0m\n\u001b[0m",
      "\u001b[0;31mNameError\u001b[0m: name 'plt' is not defined"
     ]
    }
   ],
   "source": [
    "plt.matshow(field, cmap='jet')"
   ]
  },
  {
   "cell_type": "code",
   "execution_count": 119,
   "id": "coral-alpha",
   "metadata": {},
   "outputs": [],
   "source": [
    "x_max = 6*fidelty-1\n",
    "y_max = 6*fidelty-1\n",
    "\n",
    "class Node:\n",
    "    nodes = {}\n",
    "    \n",
    "    def __init__(self,x,y,parent):\n",
    "        self.x = x\n",
    "        self.y = y\n",
    "        \n",
    "        self.parent = parent\n",
    "        \n",
    "        self.h = self.heuristic()\n",
    "        if parent:\n",
    "            self.g = parent.g + self.cost()\n",
    "        else:\n",
    "            self.g = self.cost()\n",
    "            \n",
    "        self.f = self.h+self.g\n",
    "        \n",
    "        if not self in Node.nodes:\n",
    "            Node.nodes[self] = self\n",
    "        else if self.f < Node.nodes[self].f:\n",
    "            Node.nodes[self] = self\n",
    "        \n",
    "    def cost(self):\n",
    "        if self.parent:\n",
    "            return Node.nodes[parent].cost() + dist(self.x,self.y,self.parent.x,self.parent.y)\n",
    "        else:\n",
    "            return 1\n",
    "    \n",
    "    def heuristic(self):\n",
    "        return dist(self.x,self.y,goal[0],goal[1]) \n",
    "            \n",
    "    def getChildren(self,k=1):\n",
    "        if self.x == 0 or self.y == 0 or self.x == x_max-1 or self.y == y_max-1:\n",
    "            return [Node(*n) for n in [\n",
    "                (self.x+1,self.y,self),\n",
    "                (self.x,self.y+1,self),\n",
    "                (self.x-1,self.y,self),\n",
    "                (self.x,self.y-1,self),\n",
    "                (self.x+1,self.y+1,self),\n",
    "                (self.x-1,self.y-1,self),\n",
    "                (self.x-1,self.y+1,self),\n",
    "                (self.x+1,self.y-1,self),\n",
    "            ] if n[0] >= 0 and n[0] < x_max and n[1] >= 0 and n[1] < y_max]\n",
    "        \n",
    "        else:\n",
    "            return [\n",
    "                Node(self.x+1,self.y,self),\n",
    "                Node(self.x,self.y+1,self),\n",
    "                Node(self.x,self.y-1,self),\n",
    "                Node(self.x-1,self.y,self),\n",
    "                Node(self.x+1,self.y+1,self),\n",
    "                Node(self.x-1,self.y-1,self),\n",
    "                Node(self.x-1,self.y+1,self),\n",
    "                Node(self.x+1,self.y-1,self),\n",
    "            ]\n",
    "    \n",
    "    def getPath(self):\n",
    "        if self.parent:\n",
    "            return [self]+self.parent.getPath()\n",
    "        \n",
    "        return [self]\n",
    "        \n",
    "    def __eq__(self, other):\n",
    "        return self.x == other.x and self.y == other.y\n",
    "        \n",
    "    def __repr__(self):\n",
    "        return self.__str__()\n",
    "   \n",
    "    def __str__(self):\n",
    "        return \"({},{})\".format(self.x,self.y)\n",
    "    \n",
    "    def __hash__(self):\n",
    "        return int(self.x+self.y*fidelty)"
   ]
  },
  {
   "cell_type": "code",
   "execution_count": null,
   "id": "sized-nothing",
   "metadata": {},
   "outputs": [],
   "source": [
    "def "
   ]
  },
  {
   "cell_type": "code",
   "execution_count": 306,
   "id": "creative-formation",
   "metadata": {},
   "outputs": [
    {
     "name": "stdout",
     "output_type": "stream",
     "text": [
      "found\n",
      "1235\n"
     ]
    },
    {
     "data": {
      "text/plain": [
       "0.14055442810058594"
      ]
     },
     "execution_count": 306,
     "metadata": {},
     "output_type": "execute_result"
    }
   ],
   "source": [
    "from time import time\n",
    "\n",
    "def k():\n",
    "    start = Node(pos[0],pos[1],None)\n",
    "    goal_node = Node(goal[0],goal[1],None)\n",
    "    (xDim,yDim) = np.where(grid==10)\n",
    "    obstacles = list(zip(xDim,yDim))\n",
    "    closed_list = [Node(i[0],i[1],None) for i in obstacles]\n",
    "\n",
    "    too_close = []\n",
    "\n",
    "    for n in closed_list:\n",
    "        too_close += n.getChildren()\n",
    "\n",
    "    closed_list = (closed_list+too_close)\n",
    "\n",
    "    closed_list += [start]\n",
    "    closed_list = set(closed_list)\n",
    "    open_list = set(start.getChildren())\n",
    "\n",
    "    i = 0\n",
    "    \n",
    "    while len(open_list) > 0:\n",
    "        current = min(open_list,key=lambda x:x.f)\n",
    "        #i += 1\n",
    "\n",
    "        #print(i)\n",
    "\n",
    "        if current == goal_node:\n",
    "            print(\"found\")\n",
    "            break\n",
    "\n",
    "        children = current.getChildren()\n",
    "        c_set = set(children)\n",
    "        c_out = c_set.difference(closed_list)\n",
    "        c_in = c_out.intersection(open_list)#.difference(closed_list)\n",
    "        o_in =  open_list.intersection(c_set)\n",
    "\n",
    "        for c in c_out:            \n",
    "            open_list.add(c)\n",
    "\n",
    "        for c in c_in:\n",
    "            o = None\n",
    "            for x in o_in:\n",
    "                if x == c:\n",
    "                    o = c\n",
    "                    break\n",
    "\n",
    "            if c.f < o.f:\n",
    "                open_list.remove(o)\n",
    "                open_list.add(c)\n",
    "               \n",
    "        closed_list.add(current)\n",
    "        open_list.remove(current)\n",
    "        \n",
    "    print(len(closed_list))\n",
    "        \n",
    "    return current\n",
    "        \n",
    "s = time()\n",
    "current = k()\n",
    "time()-s\n",
    "#current,open_list"
   ]
  },
  {
   "cell_type": "code",
   "execution_count": 121,
   "id": "continent-homework",
   "metadata": {},
   "outputs": [],
   "source": [
    "result = np.copy(grid)\n",
    "\n",
    "for node in current.getPath():\n",
    "    result[node.x,node.y] = 5\n",
    "    "
   ]
  },
  {
   "cell_type": "code",
   "execution_count": 122,
   "id": "express-tooth",
   "metadata": {},
   "outputs": [
    {
     "data": {
      "text/plain": [
       "<matplotlib.image.AxesImage at 0x7f80c8dc15f8>"
      ]
     },
     "execution_count": 122,
     "metadata": {},
     "output_type": "execute_result"
    },
    {
     "data": {
      "image/png": "[encoded data removed]",
      "text/plain": [
       "<Figure size 288x288 with 1 Axes>"
      ]
     },
     "metadata": {
      "needs_background": "light"
     },
     "output_type": "display_data"
    }
   ],
   "source": [
    "plt.matshow(result)"
   ]
  },
  {
   "cell_type": "code",
   "execution_count": 295,
   "id": "collective-lighting",
   "metadata": {},
   "outputs": [],
   "source": [
    "x_max = 6*fidelty-1\n",
    "y_max = 6*fidelty-1\n",
    "\n",
    "def getChildren(p):\n",
    "    x,y = p\n",
    "    if x == 0 or y == 0 or x == x_max or y == y_max:\n",
    "        return [n for n in [\n",
    "            (x+1,y),\n",
    "            (x,y+1),\n",
    "            (x-1,y),\n",
    "            (x,y-1),\n",
    "            (x+1,y+1),\n",
    "            (x-1,y-1),\n",
    "            (x-1,y+1),\n",
    "            (x+1,y-1),\n",
    "        ] if n[0] >= 0 and n[0] < x_max and n[1] >= 0 and n[1] < y_max]\n",
    "\n",
    "    else:\n",
    "        return [\n",
    "             (x+1,y),\n",
    "            (x,y+1),\n",
    "            (x-1,y),\n",
    "            (x,y-1),\n",
    "            (x+1,y+1),\n",
    "            (x-1,y-1),\n",
    "            (x-1,y+1),\n",
    "            (x+1,y-1)\n",
    "        ]\n"
   ]
  },
  {
   "cell_type": "code",
   "execution_count": 296,
   "id": "baking-regard",
   "metadata": {},
   "outputs": [],
   "source": [
    "(xDim,yDim) = np.where(grid==10)\n",
    "obstacles = np.column_stack([xDim,yDim])"
   ]
  },
  {
   "cell_type": "code",
   "execution_count": null,
   "id": "diverse-actor",
   "metadata": {},
   "outputs": [],
   "source": [
    "import numpy as np\n",
    "from scipy.spatial.transform import Rotation as R\n",
    "fidelty = 10\n",
    "goal = None\n",
    "pos = None\n",
    "grid = np.ones((6*fidelty,6*fidelty))\n",
    "\n",
    "x_max = 6*fidelty-1\n",
    "y_max = 6*fidelty-1\n",
    "\n",
    "g_values = np.ndarray((6*fidelty,6*fidelty))\n",
    "f_values = np.ndarray((6*fidelty,6*fidelty))\n",
    "closed_list = np.ndarray((6*fidelty,6*fidelty),dtype=np.bool)\n",
    "parents = np.ndarray((6*fidelty,6*fidelty),dtype=object)\n",
    "\n",
    "def dist(x,y,a,b):\n",
    "    return np.sqrt((x-a)**2+(b-y)**2)\n",
    "\n",
    "def get_rotation (odom):\n",
    "    orientation_q = odom.pose.pose.orientation\n",
    "    r = R.from_quat([orientation_q.x, orientation_q.y, orientation_q.z, orientation_q.w])\n",
    "    return r.as_euler(seq=\"xyz\",degrees=True)[-1]\n",
    "\n",
    "def setGoal(x,y):\n",
    "    global goal\n",
    "    \n",
    "    if goal is not None:\n",
    "        grid[goal[0],goal[1]] = 1\n",
    "    \n",
    "    goal = np.array([y*fidelty,x*fidelty]).astype(np.int)\n",
    "    grid[goal[0],goal[1]] = -10\n",
    "\n",
    "def updateGrid(x,y,odom,scans):\n",
    "    global grid\n",
    "    global pos \n",
    "    global goal\n",
    "        \n",
    "    if pos is not None:\n",
    "        grid[pos[0],pos[1]] = 1\n",
    "        \n",
    "    pos = np.array([y*fidelty,x*fidelty]).astype(np.int)\n",
    "    grid[pos[0],pos[1]] = 0\n",
    "\n",
    "    offset = int(get_rotation(odom))-90\n",
    "\n",
    "    for alpha in range(len(scans)):    \n",
    "        c = scans[alpha]\n",
    "\n",
    "        rad = np.deg2rad((alpha+offset)%360)\n",
    "\n",
    "        if np.abs(c) == np.inf:\n",
    "            continue\n",
    "\n",
    "        a = (c * np.sin(rad))*fidelty\n",
    "        b = (c * np.cos(rad))*fidelty\n",
    "\n",
    "        idx = (pos-np.array([b,a])).astype(np.int)\n",
    "\n",
    "       # print(idx)\n",
    "\n",
    "        grid[idx[0],idx[1]] = 10\n",
    "        \n",
    "def heuristic(p):\n",
    "    return dist(*p,*goal)*0.1\n",
    "\n",
    "def getChildren(p):\n",
    "    x,y = p\n",
    "    if x == 0 or y == 0 or x == x_max or y == y_max:\n",
    "        return [n for n in [\n",
    "            (x+1,y),\n",
    "            (x,y+1),\n",
    "            (x-1,y),\n",
    "            (x,y-1),\n",
    "            (x+1,y+1),\n",
    "            (x-1,y-1),\n",
    "            (x-1,y+1),\n",
    "            (x+1,y-1),\n",
    "        ] if n[0] >= 0 and n[0] < x_max and n[1] >= 0 and n[1] < y_max]\n",
    "\n",
    "    else:\n",
    "        return [\n",
    "             (x+1,y),\n",
    "            (x,y+1),\n",
    "            (x-1,y),\n",
    "            (x,y-1),\n",
    "            (x+1,y+1),\n",
    "            (x-1,y-1),\n",
    "            (x-1,y+1),\n",
    "            (x+1,y-1)\n",
    "        ]\n",
    "    \n",
    "def getPath(start,end):\n",
    "    global goal\n",
    "    global parents\n",
    "    \n",
    "    path = []\n",
    "    c = end\n",
    "\n",
    "    while c != start:\n",
    "        p = parents[c]\n",
    "        \n",
    "        if p == None:\n",
    "            return None\n",
    "        \n",
    "        path.append(p)\n",
    "        c = p\n",
    "        \n",
    "    return path\n",
    "        \n",
    "def getRoute(fake_obstacles=[],distance=2):\n",
    "    global grid\n",
    "    global pos\n",
    "    global goal\n",
    "    global g_values\n",
    "    global f_values\n",
    "    global parents\n",
    "    global closed_list\n",
    "    \n",
    "    start = (pos[0],pos[1])\n",
    "    goal = (goal[0],goal[1])\n",
    "    (xDim,yDim) = np.where(grid==10)\n",
    "    obstacles = np.concatenate([np.column_stack([xDim,yDim]),fake_obstacles])\n",
    "    \n",
    "    too_close = []\n",
    "\n",
    "    for i in range(distance):\n",
    "        for n in obstacles:\n",
    "            too_close += getChildren(n)\n",
    "\n",
    "        obstacles = np.unique(np.concatenate([obstacles,too_close]),axis=0)\n",
    "        \n",
    "    g_values[:,:] = np.inf\n",
    "    f_values[:,:] = np.inf\n",
    "    parents[:,:] = None\n",
    "    closed_list[:,:] = False\n",
    "\n",
    "    g_values[start] = 0\n",
    "    f_values[start] = heuristic(start)\n",
    "    closed_list[obstacles[:,0],obstacles[:,1]] = True\n",
    "    \n",
    "    open_list = [start]\n",
    "    \n",
    "    while len(open_list) > 0:\n",
    "        i = np.argmin([f_values[x] for x in open_list])\n",
    "        current = open_list[i]\n",
    "\n",
    "        del open_list[i]\n",
    "        closed_list[current] = True\n",
    "\n",
    "        if current == goal:\n",
    "            break\n",
    "\n",
    "        children = getChildren(current)\n",
    "\n",
    "        g_parent = g_values[current]\n",
    "\n",
    "        for c in children:\n",
    "            if not closed_list[c]:\n",
    "                g = g_parent + dist(*c,*current)\n",
    "                if g < g_values[c]:\n",
    "                    parents[c] = current\n",
    "                    g_values[c] = g\n",
    "                    f_values[c] = g + heuristic(c)\n",
    "\n",
    "                    if c not in open_list:\n",
    "                        open_list.append(c)\n",
    "\n",
    "    return getPath(start,goal)#,open_list,closed_list"
   ]
  },
  {
   "cell_type": "code",
   "execution_count": 297,
   "id": "fluid-transparency",
   "metadata": {},
   "outputs": [],
   "source": [
    "too_close = []\n",
    "for i in range(2):\n",
    "    for n in obstacles:\n",
    "        too_close += getChildren(n)\n",
    "\n",
    "    obstacles = np.unique(np.concatenate([obstacles,too_close]),axis=0)"
   ]
  },
  {
   "cell_type": "code",
   "execution_count": 298,
   "id": "wireless-sheet",
   "metadata": {},
   "outputs": [],
   "source": [
    "closed_list[obstacles[:,0],obstacles[:,1]] = True"
   ]
  },
  {
   "cell_type": "code",
   "execution_count": 299,
   "id": "quick-official",
   "metadata": {},
   "outputs": [],
   "source": [
    "g_values = np.ndarray((6*fidelty,6*fidelty))\n",
    "g_values[:,:] = np.inf\n",
    "\n",
    "f_values = np.copy(g_values)\n",
    "closed_list = np.ndarray((6*fidelty,6*fidelty),dtype=np.bool)\n",
    "parents = np.ndarray((6*fidelty,6*fidelty),dtype=object)"
   ]
  },
  {
   "cell_type": "code",
   "execution_count": 300,
   "id": "reasonable-silence",
   "metadata": {},
   "outputs": [],
   "source": [
    "start = (pos[0],pos[1])\n",
    "goal = (goal[0],goal[1])"
   ]
  },
  {
   "cell_type": "code",
   "execution_count": 301,
   "id": "extra-account",
   "metadata": {},
   "outputs": [
    {
     "data": {
      "text/plain": [
       "[(15, 15)]"
      ]
     },
     "execution_count": 301,
     "metadata": {},
     "output_type": "execute_result"
    }
   ],
   "source": [
    "open_list = [start]\n",
    "open_list"
   ]
  },
  {
   "cell_type": "code",
   "execution_count": 302,
   "id": "suburban-moldova",
   "metadata": {},
   "outputs": [],
   "source": [
    "def h(p):\n",
    "    #return dist(p[0],p[1],goal[0],goal[1])\n",
    "    return abs(p[0]-goal[0])+abs(p[1]-goal[1])"
   ]
  },
  {
   "cell_type": "code",
   "execution_count": 307,
   "id": "female-birmingham",
   "metadata": {},
   "outputs": [
    {
     "data": {
      "text/plain": [
       "0.06972050666809082"
      ]
     },
     "execution_count": 307,
     "metadata": {},
     "output_type": "execute_result"
    }
   ],
   "source": [
    "s = time()\n",
    "\n",
    "g_values[:,:] = np.inf\n",
    "f_values[:,:] = np.inf\n",
    "parents[:,:] = None\n",
    "closed_list[:,:] = False\n",
    "\n",
    "g_values[start] = 0\n",
    "f_values[start] = h(start)\n",
    "closed_list[obstacles[:,0],obstacles[:,1]] = True\n",
    "\n",
    "open_list = [start]\n",
    "while len(open_list) > 0:\n",
    "    i = np.argmin([f_values[x] for x in open_list])\n",
    "    current = open_list[i]\n",
    "    \n",
    "    del open_list[i]\n",
    "    \n",
    "    if current == goal:\n",
    "        break\n",
    "        \n",
    "    children = getChildren(current)\n",
    "    \n",
    "    g_parent = g_values[current]\n",
    "    \n",
    "    for c in children:\n",
    "        if not closed_list[c]:\n",
    "            g = g_parent + dist(*c,*current)\n",
    "            if g < g_values[c]:\n",
    "                parents[c] = current\n",
    "                g_values[c] = g\n",
    "                f_values[c] = g + h(c)\n",
    "\n",
    "                if c not in open_list:\n",
    "                    open_list.append(c)\n",
    "\n",
    "time()-s"
   ]
  },
  {
   "cell_type": "code",
   "execution_count": 304,
   "id": "stupid-injury",
   "metadata": {},
   "outputs": [],
   "source": [
    "path = []\n",
    "\n",
    "c = goal\n",
    "\n",
    "while c != start:\n",
    "    p = parents[c]\n",
    "    path.append(p)\n",
    "    c = p"
   ]
  },
  {
   "cell_type": "code",
   "execution_count": 305,
   "id": "magnetic-twins",
   "metadata": {},
   "outputs": [
    {
     "data": {
      "text/plain": [
       "<matplotlib.image.AxesImage at 0x7f80c820b128>"
      ]
     },
     "execution_count": 305,
     "metadata": {},
     "output_type": "execute_result"
    },
    {
     "data": {
      "image/png": "[encoded data removed]",
      "text/plain": [
       "<Figure size 288x288 with 1 Axes>"
      ]
     },
     "metadata": {
      "needs_background": "light"
     },
     "output_type": "display_data"
    }
   ],
   "source": [
    "result = np.copy(grid)\n",
    "\n",
    "for node in path:\n",
    "    result[node] = 5\n",
    "    \n",
    "plt.matshow(result)"
   ]
  },
  {
   "cell_type": "code",
   "execution_count": null,
   "id": "permanent-david",
   "metadata": {},
   "outputs": [],
   "source": []
  }
 ],
 "metadata": {
  "kernelspec": {
   "display_name": "Python 3",
   "language": "python",
   "name": "python3"
  },
  "language_info": {
   "codemirror_mode": {
    "name": "ipython",
    "version": 3
   },
   "file_extension": ".py",
   "mimetype": "text/x-python",
   "name": "python",
   "nbconvert_exporter": "python",
   "pygments_lexer": "ipython3",
   "version": "3.6.9"
  }
 },
 "nbformat": 4,
 "nbformat_minor": 5
}
