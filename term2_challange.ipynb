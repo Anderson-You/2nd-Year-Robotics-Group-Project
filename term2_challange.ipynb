{
 "cells": [
  {
   "cell_type": "code",
   "execution_count": 1,
   "id": "unusual-irrigation",
   "metadata": {},
   "outputs": [],
   "source": [
    "%config Completer.use_jedi = False\n",
    "import numpy as np\n",
    "%load_ext autoreload"
   ]
  },
  {
   "cell_type": "code",
   "execution_count": 2,
   "id": "healthy-billion",
   "metadata": {},
   "outputs": [],
   "source": [
    "from sensor_msgs.msg import LaserScan, Illuminance,Image\n",
    "from geometry_msgs.msg import Pose,Twist\n",
    "from nav_msgs.msg import Odometry\n",
    "from rosgraph_msgs.msg import Clock\n",
    "\n",
    "import rospy as rp\n",
    "rp.init_node('runner')\n",
    "\n",
    "pub = rp.Publisher('/cmd_vel', Twist,queue_size=10)"
   ]
  },
  {
   "cell_type": "code",
   "execution_count": 3,
   "id": "interpreted-discovery",
   "metadata": {},
   "outputs": [],
   "source": [
    "from functools import partial\n",
    "\n",
    "\n",
    "j = 3\n",
    "\n",
    "qs = [0]*3\n",
    "\n",
    "def setQi(x,i):\n",
    "    global qs\n",
    "    qs[i] = x.illuminance\n",
    "    \n",
    "    \n",
    "odom = None\n",
    "\n",
    "def setOdom(o):\n",
    "    global odom\n",
    "    odom = o\n",
    "    \n",
    "sc = []\n",
    "    \n",
    "\n",
    "def setSc(x):\n",
    "    global sc\n",
    "    sc = x.ranges\n",
    "    \n",
    "scans = rp.Subscriber(\"/scan\",LaserScan,setSc)\n",
    "subs = [rp.Subscriber(\"/light_sensor_plugin/lightSensor/camera_{}\".format(i),Illuminance,partial(lambda x,k:setQi(x,k),k=i)) for i in range(j)]\n",
    "cams = [rp.Subscriber(\"/camera_{}/rgb/image_raw\".format(i),Image) for i in range(j)]\n",
    "os = rp.Subscriber(\"/odom\",Odometry,setOdom)\n"
   ]
  },
  {
   "cell_type": "code",
   "execution_count": 93,
   "id": "detailed-broadway",
   "metadata": {},
   "outputs": [],
   "source": [
    "os.unregister()\n",
    "scans.unregister()\n",
    "for sub in subs:\n",
    "    sub.unregister()\n",
    "    \n",
    "for cam in cams:\n",
    "    cam.unregister()"
   ]
  },
  {
   "cell_type": "code",
   "execution_count": 74,
   "id": "working-architect",
   "metadata": {},
   "outputs": [],
   "source": [
    "moveStraight(pub,0)"
   ]
  },
  {
   "cell_type": "code",
   "execution_count": 4,
   "id": "subject-pearl",
   "metadata": {},
   "outputs": [],
   "source": [
    "%autoreload 2\n",
    "from localisation import init_localisation,localisation_step,location_found,rotate,get_location,updateState,plot_location,moveStraight"
   ]
  },
  {
   "cell_type": "code",
   "execution_count": 12,
   "id": "moving-quebec",
   "metadata": {},
   "outputs": [],
   "source": [
    "rotate(pub,-np.pi/2,odom)"
   ]
  },
  {
   "cell_type": "code",
   "execution_count": 7,
   "id": "defensive-officer",
   "metadata": {},
   "outputs": [
    {
     "data": {
      "image/png": "[encoded data removed]",
      "text/plain": [
       "<Figure size 432x288 with 1 Axes>"
      ]
     },
     "metadata": {
      "needs_background": "light"
     },
     "output_type": "display_data"
    }
   ],
   "source": [
    "import matplotlib.pyplot as plt\n",
    "\n",
    "init_localisation()\n",
    "updateState(qs)\n",
    "plot = plot_location()"
   ]
  },
  {
   "cell_type": "code",
   "execution_count": 5,
   "id": "surprising-details",
   "metadata": {},
   "outputs": [],
   "source": [
    "from IPython.display import display,clear_output\n",
    "import matplotlib.pyplot as plt"
   ]
  },
  {
   "cell_type": "code",
   "execution_count": 8,
   "id": "metric-composer",
   "metadata": {
    "collapsed": true,
    "jupyter": {
     "outputs_hidden": true
    }
   },
   "outputs": [
    {
     "data": {
      "image/png": "[encoded data removed]",
      "text/plain": [
       "<Figure size 432x288 with 1 Axes>"
      ]
     },
     "metadata": {
      "needs_background": "light"
     },
     "output_type": "display_data"
    },
    {
     "data": {
      "text/plain": [
       "None"
      ]
     },
     "metadata": {},
     "output_type": "display_data"
    },
    {
     "ename": "KeyboardInterrupt",
     "evalue": "",
     "output_type": "error",
     "traceback": [
      "\u001b[0;31m---------------------------------------------------------------------------\u001b[0m",
      "\u001b[0;31mKeyboardInterrupt\u001b[0m                         Traceback (most recent call last)",
      "\u001b[0;32m<ipython-input-8-6cf62bb1e856>\u001b[0m in \u001b[0;36m<module>\u001b[0;34m\u001b[0m\n\u001b[1;32m      1\u001b[0m \u001b[0mrotate\u001b[0m\u001b[0;34m(\u001b[0m\u001b[0mpub\u001b[0m\u001b[0;34m,\u001b[0m\u001b[0;36m0\u001b[0m\u001b[0;34m,\u001b[0m\u001b[0modom\u001b[0m\u001b[0;34m)\u001b[0m\u001b[0;34m\u001b[0m\u001b[0;34m\u001b[0m\u001b[0m\n\u001b[1;32m      2\u001b[0m \u001b[0;32mwhile\u001b[0m \u001b[0;32mnot\u001b[0m \u001b[0mlocation_found\u001b[0m\u001b[0;34m(\u001b[0m\u001b[0;34m)\u001b[0m\u001b[0;34m:\u001b[0m\u001b[0;34m\u001b[0m\u001b[0;34m\u001b[0m\u001b[0m\n\u001b[0;32m----> 3\u001b[0;31m     \u001b[0mlocalisation_step\u001b[0m\u001b[0;34m(\u001b[0m\u001b[0mpub\u001b[0m\u001b[0;34m,\u001b[0m\u001b[0mqs\u001b[0m\u001b[0;34m,\u001b[0m\u001b[0modom\u001b[0m\u001b[0;34m)\u001b[0m\u001b[0;34m\u001b[0m\u001b[0;34m\u001b[0m\u001b[0m\n\u001b[0m\u001b[1;32m      4\u001b[0m \u001b[0;34m\u001b[0m\u001b[0m\n\u001b[1;32m      5\u001b[0m     \u001b[0mrotate\u001b[0m\u001b[0;34m(\u001b[0m\u001b[0mpub\u001b[0m\u001b[0;34m,\u001b[0m\u001b[0;36m0\u001b[0m\u001b[0;34m,\u001b[0m\u001b[0modom\u001b[0m\u001b[0;34m)\u001b[0m\u001b[0;34m\u001b[0m\u001b[0;34m\u001b[0m\u001b[0m\n",
      "\u001b[0;32m~/Desktop/rgp/localisation.py\u001b[0m in \u001b[0;36mlocalisation_step\u001b[0;34m(pub, qs, odom)\u001b[0m\n\u001b[1;32m    226\u001b[0m \u001b[0;34m\u001b[0m\u001b[0m\n\u001b[1;32m    227\u001b[0m     \u001b[0;32mif\u001b[0m \u001b[0mleft\u001b[0m\u001b[0;34m:\u001b[0m\u001b[0;34m\u001b[0m\u001b[0;34m\u001b[0m\u001b[0m\n\u001b[0;32m--> 228\u001b[0;31m         \u001b[0mmoveLeft\u001b[0m\u001b[0;34m(\u001b[0m\u001b[0mpub\u001b[0m\u001b[0;34m,\u001b[0m\u001b[0mqs\u001b[0m\u001b[0;34m)\u001b[0m\u001b[0;34m\u001b[0m\u001b[0;34m\u001b[0m\u001b[0m\n\u001b[0m\u001b[1;32m    229\u001b[0m     \u001b[0;32melse\u001b[0m\u001b[0;34m:\u001b[0m\u001b[0;34m\u001b[0m\u001b[0;34m\u001b[0m\u001b[0m\n\u001b[1;32m    230\u001b[0m         \u001b[0mmoveRight\u001b[0m\u001b[0;34m(\u001b[0m\u001b[0mpub\u001b[0m\u001b[0;34m,\u001b[0m\u001b[0mqs\u001b[0m\u001b[0;34m)\u001b[0m\u001b[0;34m\u001b[0m\u001b[0;34m\u001b[0m\u001b[0m\n",
      "\u001b[0;32m~/Desktop/rgp/localisation.py\u001b[0m in \u001b[0;36mmoveLeft\u001b[0;34m(pub, qs)\u001b[0m\n\u001b[1;32m     95\u001b[0m     \u001b[0;32mglobal\u001b[0m \u001b[0mprobabilities\u001b[0m\u001b[0;34m\u001b[0m\u001b[0;34m\u001b[0m\u001b[0m\n\u001b[1;32m     96\u001b[0m \u001b[0;34m\u001b[0m\u001b[0m\n\u001b[0;32m---> 97\u001b[0;31m     \u001b[0mmoveStraightForTime\u001b[0m\u001b[0;34m(\u001b[0m\u001b[0mpub\u001b[0m\u001b[0;34m,\u001b[0m\u001b[0mspeed\u001b[0m\u001b[0;34m,\u001b[0m\u001b[0mts\u001b[0m\u001b[0;34m)\u001b[0m\u001b[0;34m\u001b[0m\u001b[0;34m\u001b[0m\u001b[0m\n\u001b[0m\u001b[1;32m     98\u001b[0m \u001b[0;34m\u001b[0m\u001b[0m\n\u001b[1;32m     99\u001b[0m     \u001b[0;32mfor\u001b[0m \u001b[0mi\u001b[0m \u001b[0;32min\u001b[0m \u001b[0mstates\u001b[0m\u001b[0;34m[\u001b[0m\u001b[0;34m:\u001b[0m\u001b[0;34m-\u001b[0m\u001b[0;36m1\u001b[0m\u001b[0;34m]\u001b[0m\u001b[0;34m:\u001b[0m\u001b[0;34m\u001b[0m\u001b[0;34m\u001b[0m\u001b[0m\n",
      "\u001b[0;32m~/Desktop/rgp/localisation.py\u001b[0m in \u001b[0;36mmoveStraightForTime\u001b[0;34m(pub, s, t)\u001b[0m\n\u001b[1;32m     55\u001b[0m \u001b[0;32mdef\u001b[0m \u001b[0mmoveStraightForTime\u001b[0m\u001b[0;34m(\u001b[0m\u001b[0mpub\u001b[0m\u001b[0;34m,\u001b[0m\u001b[0ms\u001b[0m\u001b[0;34m,\u001b[0m\u001b[0mt\u001b[0m\u001b[0;34m)\u001b[0m\u001b[0;34m:\u001b[0m\u001b[0;34m\u001b[0m\u001b[0;34m\u001b[0m\u001b[0m\n\u001b[1;32m     56\u001b[0m     \u001b[0mmoveStraight\u001b[0m\u001b[0;34m(\u001b[0m\u001b[0mpub\u001b[0m\u001b[0;34m,\u001b[0m\u001b[0ms\u001b[0m\u001b[0;34m)\u001b[0m\u001b[0;34m\u001b[0m\u001b[0;34m\u001b[0m\u001b[0m\n\u001b[0;32m---> 57\u001b[0;31m     \u001b[0mrp\u001b[0m\u001b[0;34m.\u001b[0m\u001b[0msleep\u001b[0m\u001b[0;34m(\u001b[0m\u001b[0mt\u001b[0m\u001b[0;34m)\u001b[0m\u001b[0;34m\u001b[0m\u001b[0;34m\u001b[0m\u001b[0m\n\u001b[0m\u001b[1;32m     58\u001b[0m     \u001b[0mmoveStraight\u001b[0m\u001b[0;34m(\u001b[0m\u001b[0mpub\u001b[0m\u001b[0;34m,\u001b[0m\u001b[0;36m0\u001b[0m\u001b[0;34m)\u001b[0m\u001b[0;34m\u001b[0m\u001b[0;34m\u001b[0m\u001b[0m\n\u001b[1;32m     59\u001b[0m     \u001b[0mrp\u001b[0m\u001b[0;34m.\u001b[0m\u001b[0msleep\u001b[0m\u001b[0;34m(\u001b[0m\u001b[0;36m0.5\u001b[0m\u001b[0;34m)\u001b[0m\u001b[0;34m\u001b[0m\u001b[0;34m\u001b[0m\u001b[0m\n",
      "\u001b[0;32m/opt/ros/melodic/lib/python2.7/dist-packages/rospy/timer.py\u001b[0m in \u001b[0;36msleep\u001b[0;34m(duration)\u001b[0m\n\u001b[1;32m    157\u001b[0m                   \u001b[0;32mnot\u001b[0m \u001b[0mrospy\u001b[0m\u001b[0;34m.\u001b[0m\u001b[0mcore\u001b[0m\u001b[0;34m.\u001b[0m\u001b[0mis_shutdown\u001b[0m\u001b[0;34m(\u001b[0m\u001b[0;34m)\u001b[0m\u001b[0;34m:\u001b[0m\u001b[0;34m\u001b[0m\u001b[0;34m\u001b[0m\u001b[0m\n\u001b[1;32m    158\u001b[0m             \u001b[0;32mwith\u001b[0m \u001b[0mrostime_cond\u001b[0m\u001b[0;34m:\u001b[0m\u001b[0;34m\u001b[0m\u001b[0;34m\u001b[0m\u001b[0m\n\u001b[0;32m--> 159\u001b[0;31m                 \u001b[0mrostime_cond\u001b[0m\u001b[0;34m.\u001b[0m\u001b[0mwait\u001b[0m\u001b[0;34m(\u001b[0m\u001b[0;36m0.5\u001b[0m\u001b[0;34m)\u001b[0m\u001b[0;34m\u001b[0m\u001b[0;34m\u001b[0m\u001b[0m\n\u001b[0m\u001b[1;32m    160\u001b[0m \u001b[0;34m\u001b[0m\u001b[0m\n\u001b[1;32m    161\u001b[0m         \u001b[0;32mif\u001b[0m \u001b[0mrospy\u001b[0m\u001b[0;34m.\u001b[0m\u001b[0mrostime\u001b[0m\u001b[0;34m.\u001b[0m\u001b[0mget_rostime\u001b[0m\u001b[0;34m(\u001b[0m\u001b[0;34m)\u001b[0m \u001b[0;34m<\u001b[0m \u001b[0minitial_rostime\u001b[0m\u001b[0;34m:\u001b[0m\u001b[0;34m\u001b[0m\u001b[0;34m\u001b[0m\u001b[0m\n",
      "\u001b[0;32m/usr/lib/python3.6/threading.py\u001b[0m in \u001b[0;36mwait\u001b[0;34m(self, timeout)\u001b[0m\n\u001b[1;32m    297\u001b[0m             \u001b[0;32melse\u001b[0m\u001b[0;34m:\u001b[0m\u001b[0;34m\u001b[0m\u001b[0;34m\u001b[0m\u001b[0m\n\u001b[1;32m    298\u001b[0m                 \u001b[0;32mif\u001b[0m \u001b[0mtimeout\u001b[0m \u001b[0;34m>\u001b[0m \u001b[0;36m0\u001b[0m\u001b[0;34m:\u001b[0m\u001b[0;34m\u001b[0m\u001b[0;34m\u001b[0m\u001b[0m\n\u001b[0;32m--> 299\u001b[0;31m                     \u001b[0mgotit\u001b[0m \u001b[0;34m=\u001b[0m \u001b[0mwaiter\u001b[0m\u001b[0;34m.\u001b[0m\u001b[0macquire\u001b[0m\u001b[0;34m(\u001b[0m\u001b[0;32mTrue\u001b[0m\u001b[0;34m,\u001b[0m \u001b[0mtimeout\u001b[0m\u001b[0;34m)\u001b[0m\u001b[0;34m\u001b[0m\u001b[0;34m\u001b[0m\u001b[0m\n\u001b[0m\u001b[1;32m    300\u001b[0m                 \u001b[0;32melse\u001b[0m\u001b[0;34m:\u001b[0m\u001b[0;34m\u001b[0m\u001b[0;34m\u001b[0m\u001b[0m\n\u001b[1;32m    301\u001b[0m                     \u001b[0mgotit\u001b[0m \u001b[0;34m=\u001b[0m \u001b[0mwaiter\u001b[0m\u001b[0;34m.\u001b[0m\u001b[0macquire\u001b[0m\u001b[0;34m(\u001b[0m\u001b[0;32mFalse\u001b[0m\u001b[0;34m)\u001b[0m\u001b[0;34m\u001b[0m\u001b[0;34m\u001b[0m\u001b[0m\n",
      "\u001b[0;31mKeyboardInterrupt\u001b[0m: "
     ]
    }
   ],
   "source": [
    "rotate(pub,0,odom)\n",
    "while not location_found():\n",
    "    localisation_step(pub,qs,odom)\n",
    "        \n",
    "    rotate(pub,0,odom)\n",
    "    \n",
    "    clear_output()\n",
    "    plot = plot_location()\n",
    "    display(plt.show())\n",
    "    \n",
    "    j += 1\n",
    "    \n",
    "location = get_location()\n",
    "location"
   ]
  },
  {
   "cell_type": "code",
   "execution_count": 78,
   "id": "lined-municipality",
   "metadata": {},
   "outputs": [],
   "source": [
    "plot.savefig('images/after_3_steps_location_hist.png', dpi=300)"
   ]
  },
  {
   "cell_type": "code",
   "execution_count": 13,
   "id": "operating-ordering",
   "metadata": {},
   "outputs": [],
   "source": [
    "from localisation import moveStraightForTime,rotate,abs_rotate\n",
    "\n",
    "def drive(pub,v,odom):\n",
    "    \n",
    "    a =  np.arctan2(v[0],-v[1])\n",
    "    rotate(pub,a,odom)\n",
    "   \n",
    "    d = np.sqrt((v**2).sum())\n",
    "    moveStraightForTime(pub,0.05,2*d)"
   ]
  },
  {
   "cell_type": "code",
   "execution_count": 6,
   "id": "departmental-stock",
   "metadata": {},
   "outputs": [],
   "source": [
    "location = 7"
   ]
  },
  {
   "cell_type": "code",
   "execution_count": 7,
   "id": "unusual-tribute",
   "metadata": {},
   "outputs": [
    {
     "data": {
      "text/plain": [
       "[3.1, 3.5]"
      ]
     },
     "execution_count": 7,
     "metadata": {},
     "output_type": "execute_result"
    }
   ],
   "source": [
    "pos = [3.1,2.8+location/10.0]\n",
    "pos"
   ]
  },
  {
   "cell_type": "code",
   "execution_count": 8,
   "id": "divine-equity",
   "metadata": {},
   "outputs": [],
   "source": [
    "\n",
    "%autoreload 2\n",
    "\n",
    "from planning import updateGrid,getRoute,grid,setGoal,fidelty\n",
    "import matplotlib.pyplot as plt"
   ]
  },
  {
   "cell_type": "code",
   "execution_count": 27,
   "id": "round-disease",
   "metadata": {},
   "outputs": [
    {
     "data": {
      "text/plain": [
       "<Figure size 432x288 with 0 Axes>"
      ]
     },
     "metadata": {},
     "output_type": "display_data"
    }
   ],
   "source": [
    "fig = plt.gcf()"
   ]
  },
  {
   "cell_type": "code",
   "execution_count": 31,
   "id": "minus-strike",
   "metadata": {},
   "outputs": [
    {
     "data": {
      "text/plain": [
       "<matplotlib.image.AxesImage at 0x7ff215b4cc88>"
      ]
     },
     "execution_count": 31,
     "metadata": {},
     "output_type": "execute_result"
    },
    {
     "data": {
      "image/png": "[encoded data removed]",
      "text/plain": [
       "<Figure size 288x288 with 1 Axes>"
      ]
     },
     "metadata": {
      "needs_background": "light"
     },
     "output_type": "display_data"
    }
   ],
   "source": [
    "grid[:,:] = 0\n",
    "#setGoal(2.6,0.7)\n",
    "setGoal(2.1,1.35)\n",
    "updateGrid(pos[0],pos[1],odom,sc)\n",
    "\n",
    "plt.matshow(grid)\n",
    "#plt.savefig('images/astart_inital.png', dpi=300)"
   ]
  },
  {
   "cell_type": "code",
   "execution_count": 29,
   "id": "floppy-preparation",
   "metadata": {},
   "outputs": [
    {
     "data": {
      "text/plain": [
       "<Figure size 432x288 with 0 Axes>"
      ]
     },
     "metadata": {},
     "output_type": "display_data"
    }
   ],
   "source": [
    "plt.draw()"
   ]
  },
  {
   "cell_type": "code",
   "execution_count": 193,
   "id": "nutritional-prague",
   "metadata": {},
   "outputs": [],
   "source": [
    "moveStraightForTime(pub,0,0)"
   ]
  },
  {
   "cell_type": "code",
   "execution_count": 81,
   "id": "hundred-porcelain",
   "metadata": {},
   "outputs": [],
   "source": [
    "rotate(pub,0,odom)"
   ]
  },
  {
   "cell_type": "code",
   "execution_count": 9,
   "id": "medical-property",
   "metadata": {},
   "outputs": [],
   "source": [
    "def mask_in(xf,xt,yf,yt):\n",
    "    xf = int(xf*fidelty)\n",
    "    xt = int(xt*fidelty)\n",
    "    yf = int(yf*fidelty)\n",
    "    yt = int(yt*fidelty)\n",
    "    \n",
    "    n_x = (xt-xf)+1\n",
    "    n_y = (yt-yf)+1\n",
    "    x = np.linspace(xf,xt,n_x).astype(np.int)\n",
    "    y = np.linspace(yf,yt,n_y).astype(np.int)\n",
    "    \n",
    "    X,Y = np.meshgrid(x,y)\n",
    "    \n",
    "    return list(zip(Y.ravel(),X.ravel()))"
   ]
  },
  {
   "cell_type": "code",
   "execution_count": 10,
   "id": "cathedral-timber",
   "metadata": {},
   "outputs": [],
   "source": [
    "barrier = mask_in(2,4,2.6,2.75)\n",
    "mask_right = mask_in(3.5,5.9,2,5.9)"
   ]
  },
  {
   "cell_type": "code",
   "execution_count": 34,
   "id": "stretch-religious",
   "metadata": {},
   "outputs": [],
   "source": [
    "illegal = barrier+mask_right"
   ]
  },
  {
   "cell_type": "code",
   "execution_count": 35,
   "id": "presidential-phase",
   "metadata": {},
   "outputs": [
    {
     "data": {
      "text/plain": [
       "array([-10.,   0.,   1.,  10.])"
      ]
     },
     "execution_count": 35,
     "metadata": {},
     "output_type": "execute_result"
    }
   ],
   "source": [
    "np.unique(grid)"
   ]
  },
  {
   "cell_type": "code",
   "execution_count": 36,
   "id": "dominican-count",
   "metadata": {},
   "outputs": [
    {
     "data": {
      "text/plain": [
       "<matplotlib.image.AxesImage at 0x7ff215abab00>"
      ]
     },
     "execution_count": 36,
     "metadata": {},
     "output_type": "execute_result"
    },
    {
     "data": {
      "image/png": "[encoded data removed]",
      "text/plain": [
       "<Figure size 288x288 with 1 Axes>"
      ]
     },
     "metadata": {
      "needs_background": "light"
     },
     "output_type": "display_data"
    },
    {
     "name": "stdout",
     "output_type": "stream",
     "text": [
      "shutdown request: [/runner] Reason: new node registered with same name\n"
     ]
    }
   ],
   "source": [
    "path = getRoute(illegal)\n",
    "result = np.copy(grid)\n",
    "\n",
    "for node in path:\n",
    "    result[node[0],node[1]] = 5\n",
    "    \n",
    "for node in illegal:\n",
    "    result[node[0],node[1]] = -10\n",
    "\n",
    "clear_output()\n",
    "plt.matshow(result)"
   ]
  },
  {
   "cell_type": "code",
   "execution_count": 184,
   "id": "initial-aaron",
   "metadata": {},
   "outputs": [
    {
     "data": {
      "text/plain": [
       "[3.1, 3.45]"
      ]
     },
     "execution_count": 184,
     "metadata": {},
     "output_type": "execute_result"
    }
   ],
   "source": [
    "pos"
   ]
  },
  {
   "cell_type": "code",
   "execution_count": 163,
   "id": "together-german",
   "metadata": {},
   "outputs": [],
   "source": []
  },
  {
   "cell_type": "code",
   "execution_count": 167,
   "id": "public-rogers",
   "metadata": {},
   "outputs": [
    {
     "name": "stdout",
     "output_type": "stream",
     "text": [
      "6.275905007806259\n",
      "-0.007280299373327637\n"
     ]
    }
   ],
   "source": []
  },
  {
   "cell_type": "code",
   "execution_count": 54,
   "id": "postal-killing",
   "metadata": {},
   "outputs": [
    {
     "data": {
      "image/png": "[encoded data removed]",
      "text/plain": [
       "<Figure size 288x288 with 1 Axes>"
      ]
     },
     "metadata": {
      "needs_background": "light"
     },
     "output_type": "display_data"
    },
    {
     "data": {
      "text/plain": [
       "None"
      ]
     },
     "metadata": {},
     "output_type": "display_data"
    },
    {
     "name": "stdout",
     "output_type": "stream",
     "text": [
      "[2. 0.] [1.7999999999999994, 1.3999999999999988]\n"
     ]
    }
   ],
   "source": [
    "while True:\n",
    "    updateGrid(pos[0],pos[1],odom,sc)\n",
    "    path = getRoute(illegal)\n",
    "    \n",
    "    if path == None:\n",
    "        grid[:,:] = 0\n",
    "        continue\n",
    "    \n",
    "    if len(path) < 3:\n",
    "        break        \n",
    "    \n",
    "    closest = path[-4:]\n",
    "\n",
    "    a = closest[0]\n",
    "    b = closest[-1]\n",
    "    v = -np.array((b[1]-a[1],b[0]-a[0]))*fidelty/10\n",
    "\n",
    "    result = np.copy(grid)\n",
    "\n",
    "    for node in path:\n",
    "        result[node[0],node[1]] = 5\n",
    "\n",
    "    clear_output()\n",
    "    plt.matshow(result)\n",
    "    display(plt.show())\n",
    "    print(v,pos)\n",
    "    \n",
    "    drive(pub,v,odom)\n",
    "    \n",
    "    pos[0] += v[0]/fidelty\n",
    "    pos[1] += v[1]/fidelty\n",
    "    #break\n",
    "    \n",
    "rotate(pub,np.pi/4,odom)\n",
    "\n",
    "#import numpy as np\n",
    "#result = np.copy(grid)\n",
    "\n",
    "#for node in route.getPath():\n",
    "#    result[node.x,node.y] = 5\n",
    "\n",
    "  \n",
    "    \n",
    "#print(v)\n",
    "#plt.matshow(result)"
   ]
  },
  {
   "cell_type": "code",
   "execution_count": 56,
   "id": "hollow-prague",
   "metadata": {},
   "outputs": [
    {
     "data": {
      "text/plain": [
       "[1, 2, 3, 4]"
      ]
     },
     "execution_count": 56,
     "metadata": {},
     "output_type": "execute_result"
    },
    {
     "name": "stdout",
     "output_type": "stream",
     "text": [
      "shutdown request: [/runner] Reason: new node registered with same name\n"
     ]
    }
   ],
   "source": [
    "[1,2,3,4][-5:]"
   ]
  },
  {
   "cell_type": "code",
   "execution_count": 51,
   "id": "opposite-projection",
   "metadata": {},
   "outputs": [
    {
     "data": {
      "text/plain": [
       "<matplotlib.image.AxesImage at 0x7fc02b120240>"
      ]
     },
     "execution_count": 51,
     "metadata": {},
     "output_type": "execute_result"
    },
    {
     "data": {
      "image/png": "[encoded data removed]",
      "text/plain": [
       "<Figure size 288x288 with 1 Axes>"
      ]
     },
     "metadata": {
      "needs_background": "light"
     },
     "output_type": "display_data"
    }
   ],
   "source": [
    "plt.matshow(grid)"
   ]
  },
  {
   "cell_type": "code",
   "execution_count": 87,
   "id": "mysterious-cabin",
   "metadata": {},
   "outputs": [
    {
     "data": {
      "image/png": "[encoded data removed]",
      "text/plain": [
       "<Figure size 288x288 with 1 Axes>"
      ]
     },
     "metadata": {
      "needs_background": "light"
     },
     "output_type": "display_data"
    }
   ],
   "source": [
    "plt.matshow(result)\n",
    "plt.savefig('images/astar_A3.png', dpi=300)"
   ]
  },
  {
   "cell_type": "code",
   "execution_count": 122,
   "id": "fewer-tuner",
   "metadata": {},
   "outputs": [],
   "source": [
    "rotate(pub,np.pi/4,odom)"
   ]
  },
  {
   "cell_type": "code",
   "execution_count": 117,
   "id": "agricultural-strap",
   "metadata": {},
   "outputs": [],
   "source": [
    "left = np.mean([min(v,1) for v in sc[:100]])\n",
    "right = np.mean([min(v,1) for v in sc[-100:]])"
   ]
  },
  {
   "cell_type": "code",
   "execution_count": 118,
   "id": "altered-brown",
   "metadata": {},
   "outputs": [
    {
     "data": {
      "text/plain": [
       "0.7621731644868851"
      ]
     },
     "execution_count": 118,
     "metadata": {},
     "output_type": "execute_result"
    }
   ],
   "source": [
    "left"
   ]
  },
  {
   "cell_type": "code",
   "execution_count": 119,
   "id": "manual-producer",
   "metadata": {},
   "outputs": [
    {
     "data": {
      "text/plain": [
       "0.8333364269137382"
      ]
     },
     "execution_count": 119,
     "metadata": {},
     "output_type": "execute_result"
    }
   ],
   "source": [
    "right"
   ]
  },
  {
   "cell_type": "code",
   "execution_count": 123,
   "id": "functional-protection",
   "metadata": {},
   "outputs": [],
   "source": [
    "rotate(pub,np.pi/4,odom)\n",
    "\n",
    "while True:\n",
    "    d = np.mean(sc[:10]+sc[-10:])\n",
    "    \n",
    "    if d < 0.25:\n",
    "        break\n",
    "        \n",
    "    t = 2\n",
    "        \n",
    "    if d < 0.5:\n",
    "        t = 2*d\n",
    "    \n",
    "    left = np.mean([min(v,1) for v in sc[80:100]])\n",
    "    right = np.mean([min(v,1) for v in sc[-100:-80]])\n",
    "    \n",
    "    if left < 0.2:\n",
    "        abs_rotate(pub,0.4,odom)\n",
    "    if right < 0.2:\n",
    "        abs_rotate(pub,-0.4,odom)\n",
    "        \n",
    "    moveStraightForTime(pub,0.05,t)    \n",
    "    rotate(pub,np.pi/4,odom)"
   ]
  },
  {
   "cell_type": "code",
   "execution_count": 331,
   "id": "thick-disclosure",
   "metadata": {},
   "outputs": [
    {
     "data": {
      "text/plain": [
       "28.64788975654116"
      ]
     },
     "execution_count": 331,
     "metadata": {},
     "output_type": "execute_result"
    }
   ],
   "source": [
    "np.rad2deg(0.5)"
   ]
  },
  {
   "cell_type": "code",
   "execution_count": 124,
   "id": "primary-semester",
   "metadata": {},
   "outputs": [],
   "source": [
    "rotate(pub,np.pi/4,odom)"
   ]
  },
  {
   "cell_type": "code",
   "execution_count": 151,
   "id": "modular-donna",
   "metadata": {},
   "outputs": [],
   "source": [
    "rotate(pub,np.pi/4,odom)\n",
    "while True:\n",
    "    d = np.mean(sc[:10]+sc[-10:])\n",
    "    \n",
    "    if d > 1.5:\n",
    "        break\n",
    "        \n",
    "    t = 2\n",
    "        \n",
    "    if d > 1.25:\n",
    "        t = 2*d\n",
    "        \n",
    "    moveStraightForTime(pub,-0.05,t)    \n",
    "    rotate(pub,np.pi/4,odom)\n",
    "    \n",
    "    k = -0.05*t\n",
    "    pos[0] += k\n",
    "    pos[1] -= k\n",
    "    \n",
    "rotate(pub,np.pi/4,odom)"
   ]
  },
  {
   "cell_type": "code",
   "execution_count": 89,
   "id": "adolescent-walker",
   "metadata": {},
   "outputs": [
    {
     "data": {
      "text/plain": [
       "[1.4536412280797952, 2.166358771920205]"
      ]
     },
     "execution_count": 89,
     "metadata": {},
     "output_type": "execute_result"
    }
   ],
   "source": [
    "pos"
   ]
  },
  {
   "cell_type": "code",
   "execution_count": 11,
   "id": "equivalent-nickname",
   "metadata": {},
   "outputs": [],
   "source": [
    "pos = [1.8,1.85]"
   ]
  },
  {
   "cell_type": "code",
   "execution_count": 12,
   "id": "wrapped-cemetery",
   "metadata": {},
   "outputs": [],
   "source": [
    "mask_left = mask_in(0,2.5,2.5,5.9)\n",
    "bad = mask_left + barrier"
   ]
  },
  {
   "cell_type": "code",
   "execution_count": 14,
   "id": "resistant-nevada",
   "metadata": {},
   "outputs": [
    {
     "data": {
      "text/plain": [
       "<matplotlib.image.AxesImage at 0x7f6c8e6fd080>"
      ]
     },
     "execution_count": 14,
     "metadata": {},
     "output_type": "execute_result"
    },
    {
     "data": {
      "image/png": "[encoded data removed]",
      "text/plain": [
       "<Figure size 288x288 with 1 Axes>"
      ]
     },
     "metadata": {
      "needs_background": "light"
     },
     "output_type": "display_data"
    }
   ],
   "source": [
    "%autoreload 2\n",
    "from planning import updateGrid,getRoute,grid,setGoal,fidelty\n",
    "grid[:,:] = 0\n",
    "setGoal(3.1,5.2)\n",
    "updateGrid(pos[0],pos[1],odom,sc)\n",
    "\n",
    "\n",
    "plt.matshow(grid)"
   ]
  },
  {
   "cell_type": "code",
   "execution_count": 15,
   "id": "quiet-opportunity",
   "metadata": {},
   "outputs": [
    {
     "data": {
      "text/plain": [
       "<matplotlib.image.AxesImage at 0x7f6c8e3899b0>"
      ]
     },
     "execution_count": 15,
     "metadata": {},
     "output_type": "execute_result"
    },
    {
     "data": {
      "image/png": "[encoded data removed]",
      "text/plain": [
       "<Figure size 288x288 with 1 Axes>"
      ]
     },
     "metadata": {
      "needs_background": "light"
     },
     "output_type": "display_data"
    }
   ],
   "source": [
    "path = getRoute(bad,3)\n",
    "result = np.copy(grid)\n",
    "\n",
    "for node in path:\n",
    "    result[node[0],node[1]] = 5\n",
    "    \n",
    "    \n",
    "for node in bad:\n",
    "    result[node[0],node[1]] = -5\n",
    "\n",
    "plt.matshow(result)"
   ]
  },
  {
   "cell_type": "code",
   "execution_count": 68,
   "id": "common-sucking",
   "metadata": {},
   "outputs": [
    {
     "data": {
      "text/plain": [
       "[(51, 30),\n",
       " (50, 29),\n",
       " (49, 29),\n",
       " (48, 29),\n",
       " (47, 29),\n",
       " (46, 29),\n",
       " (45, 29),\n",
       " (44, 29),\n",
       " (43, 29),\n",
       " (42, 29),\n",
       " (41, 29),\n",
       " (40, 29),\n",
       " (39, 29),\n",
       " (38, 29),\n",
       " (37, 29),\n",
       " (36, 29),\n",
       " (35, 29),\n",
       " (34, 29),\n",
       " (33, 29),\n",
       " (32, 29),\n",
       " (31, 29),\n",
       " (30, 29),\n",
       " (29, 29),\n",
       " (28, 29),\n",
       " (27, 29),\n",
       " (26, 29),\n",
       " (25, 29),\n",
       " (24, 29),\n",
       " (23, 29),\n",
       " (22, 29),\n",
       " (21, 28),\n",
       " (21, 27),\n",
       " (21, 26),\n",
       " (21, 25),\n",
       " (21, 24),\n",
       " (20, 23),\n",
       " (20, 22),\n",
       " (20, 21),\n",
       " (20, 20),\n",
       " (19, 19),\n",
       " (18, 18)]"
      ]
     },
     "execution_count": 68,
     "metadata": {},
     "output_type": "execute_result"
    }
   ],
   "source": [
    "path"
   ]
  },
  {
   "cell_type": "code",
   "execution_count": 101,
   "id": "acknowledged-italian",
   "metadata": {},
   "outputs": [
    {
     "data": {
      "text/plain": [
       "[((24,46) 78.97056274847714, 35.97056274847714),\n",
       " ((39,35) 72.52691193458116, 55.52691193458116),\n",
       " ((20,24) 46.82842712474619, 7.82842712474619),\n",
       " ((21,37) 61.55634918610405, 24.55634918610405),\n",
       " ((20,21) 46.82842712474619, 4.82842712474619),\n",
       " ((38,36) 73.11269837220806, 54.112698372208065),\n",
       " ((21,25) 46.242640687119284, 9.242640687119286),\n",
       " ((21,38) 63.55634918610405, 25.55634918610405),\n",
       " ((37,37) 73.69848480983498, 52.69848480983497),\n",
       " ((22,26) 45.65685424949238, 10.656854249492381),\n",
       " ((21,39) 65.55634918610406, 26.55634918610405),\n",
       " ((36,38) 74.28427124746187, 51.28427124746188),\n",
       " ((21,40) 67.55634918610406, 27.55634918610405),\n",
       " ((23,27) 45.071067811865476, 12.071067811865477),\n",
       " ((35,39) 74.8700576850888, 49.87005768508879),\n",
       " ((21,41) 69.55634918610406, 28.55634918610405),\n",
       " ((24,28) 44.485281374238575, 13.485281374238573),\n",
       " ((34,40) 75.45584412271569, 48.455844122715696),\n",
       " ((21,42) 71.55634918610406, 29.55634918610405),\n",
       " ((33,41) 76.04163056034261, 47.041630560342604),\n",
       " ((25,29) 43.89949493661167, 14.899494936611669),\n",
       " ((21,43) 73.55634918610406, 30.55634918610405),\n",
       " ((32,42) 76.6274169979695, 45.62741699796951),\n",
       " ((25,30) 43.89949493661167, 15.899494936611669),\n",
       " ((18,18) 48, 1),\n",
       " ((31,43) 77.21320343559643, 44.21320343559642),\n",
       " ((21,44) 75.55634918610406, 31.55634918610405),\n",
       " ((24,31) 45.31370849898477, 17.313708498984763),\n",
       " ((19,19) 47.41421356237309, 2.414213562373095),\n",
       " ((30,44) 77.79898987322332, 42.79898987322333),\n",
       " ((21,45) 77.55634918610406, 32.55634918610405),\n",
       " ((23,32) 48.72792206135786, 18.72792206135786),\n",
       " ((20,20) 46.82842712474619, 3.82842712474619),\n",
       " ((29,45) 78.38477631085024, 41.384776310850235),\n",
       " ((22,33) 52.14213562373095, 20.142135623730955),\n",
       " ((43,31) 70.18376618407353, 61.18376618407353),\n",
       " ((44,31) 70.18376618407353, 62.18376618407353),\n",
       " ((45,31) 70.18376618407353, 63.18376618407353),\n",
       " ((46,31) 70.18376618407353, 64.18376618407353),\n",
       " ((47,31) 70.18376618407353, 65.18376618407353),\n",
       " ((48,31) 70.18376618407353, 66.18376618407353),\n",
       " ((49,31) 70.18376618407353, 67.18376618407353),\n",
       " ((50,31) 70.18376618407353, 68.18376618407353),\n",
       " ((51,31) 70.18376618407353, 69.18376618407353),\n",
       " ((42,32) 70.76955262170043, 59.769552621700434),\n",
       " ((28,46) 78.97056274847714, 39.97056274847714),\n",
       " ((27,46) 78.97056274847714, 38.97056274847714),\n",
       " ((26,46) 78.97056274847714, 37.97056274847714),\n",
       " ((25,46) 78.97056274847714, 36.97056274847714),\n",
       " ((21,34) 55.55634918610405, 21.55634918610405),\n",
       " ((20,23) 46.82842712474619, 6.82842712474619),\n",
       " ((20,22) 46.82842712474619, 5.82842712474619),\n",
       " ((41,33) 71.35533905932735, 58.35533905932734),\n",
       " ((21,35) 57.55634918610405, 22.55634918610405),\n",
       " ((22,46) 78.97056274847714, 33.97056274847714),\n",
       " ((40,34) 71.94112549695424, 56.94112549695425),\n",
       " ((21,36) 59.55634918610405, 23.55634918610405),\n",
       " ((23,46) 78.97056274847714, 34.97056274847714)]"
      ]
     },
     "execution_count": 101,
     "metadata": {},
     "output_type": "execute_result"
    }
   ],
   "source": [
    "[(x,x.cost()) for x in clist.intersection(path)]"
   ]
  },
  {
   "cell_type": "code",
   "execution_count": 98,
   "id": "structured-quarter",
   "metadata": {},
   "outputs": [
    {
     "data": {
      "text/plain": [
       "[70.18376618407353,\n",
       " 69.18376618407353,\n",
       " 68.18376618407353,\n",
       " 67.18376618407353,\n",
       " 66.18376618407353,\n",
       " 65.18376618407353,\n",
       " 64.18376618407353,\n",
       " 63.18376618407353,\n",
       " 62.18376618407353,\n",
       " 61.18376618407353,\n",
       " 59.769552621700434,\n",
       " 58.35533905932734,\n",
       " 56.94112549695425,\n",
       " 55.52691193458116,\n",
       " 54.112698372208065,\n",
       " 52.69848480983497,\n",
       " 51.28427124746188,\n",
       " 49.87005768508879,\n",
       " 48.455844122715696,\n",
       " 47.041630560342604,\n",
       " 45.62741699796951,\n",
       " 44.21320343559642,\n",
       " 42.79898987322333,\n",
       " 41.384776310850235,\n",
       " 39.97056274847714,\n",
       " 38.97056274847714,\n",
       " 37.97056274847714,\n",
       " 36.97056274847714,\n",
       " 35.97056274847714,\n",
       " 34.97056274847714,\n",
       " 33.97056274847714,\n",
       " 32.55634918610405,\n",
       " 31.55634918610405,\n",
       " 30.55634918610405,\n",
       " 29.55634918610405,\n",
       " 28.55634918610405,\n",
       " 27.55634918610405,\n",
       " 26.55634918610405,\n",
       " 25.55634918610405,\n",
       " 24.55634918610405,\n",
       " 23.55634918610405,\n",
       " 22.55634918610405,\n",
       " 21.55634918610405,\n",
       " 20.142135623730955,\n",
       " 18.72792206135786,\n",
       " 17.313708498984763,\n",
       " 15.899494936611669,\n",
       " 14.899494936611669,\n",
       " 13.485281374238573,\n",
       " 12.071067811865477,\n",
       " 10.656854249492381,\n",
       " 9.242640687119286,\n",
       " 7.82842712474619,\n",
       " 6.82842712474619,\n",
       " 5.82842712474619,\n",
       " 4.82842712474619,\n",
       " 3.82842712474619,\n",
       " 2.414213562373095,\n",
       " 1]"
      ]
     },
     "execution_count": 98,
     "metadata": {},
     "output_type": "execute_result"
    }
   ],
   "source": [
    "[x.cost() for x in path]"
   ]
  },
  {
   "cell_type": "code",
   "execution_count": 99,
   "id": "fancy-medicine",
   "metadata": {},
   "outputs": [
    {
     "data": {
      "text/plain": [
       "[(52,31) 70.18376618407353,\n",
       " (51,31) 70.18376618407353,\n",
       " (50,31) 70.18376618407353,\n",
       " (49,31) 70.18376618407353,\n",
       " (48,31) 70.18376618407353,\n",
       " (47,31) 70.18376618407353,\n",
       " (46,31) 70.18376618407353,\n",
       " (45,31) 70.18376618407353,\n",
       " (44,31) 70.18376618407353,\n",
       " (43,31) 70.18376618407353,\n",
       " (42,32) 70.76955262170043,\n",
       " (41,33) 71.35533905932735,\n",
       " (40,34) 71.94112549695424,\n",
       " (39,35) 72.52691193458116,\n",
       " (38,36) 73.11269837220806,\n",
       " (37,37) 73.69848480983498,\n",
       " (36,38) 74.28427124746187,\n",
       " (35,39) 74.8700576850888,\n",
       " (34,40) 75.45584412271569,\n",
       " (33,41) 76.04163056034261,\n",
       " (32,42) 76.6274169979695,\n",
       " (31,43) 77.21320343559643,\n",
       " (30,44) 77.79898987322332,\n",
       " (29,45) 78.38477631085024,\n",
       " (28,46) 78.97056274847714,\n",
       " (27,46) 78.97056274847714,\n",
       " (26,46) 78.97056274847714,\n",
       " (25,46) 78.97056274847714,\n",
       " (24,46) 78.97056274847714,\n",
       " (23,46) 78.97056274847714,\n",
       " (22,46) 78.97056274847714,\n",
       " (21,45) 77.55634918610406,\n",
       " (21,44) 75.55634918610406,\n",
       " (21,43) 73.55634918610406,\n",
       " (21,42) 71.55634918610406,\n",
       " (21,41) 69.55634918610406,\n",
       " (21,40) 67.55634918610406,\n",
       " (21,39) 65.55634918610406,\n",
       " (21,38) 63.55634918610405,\n",
       " (21,37) 61.55634918610405,\n",
       " (21,36) 59.55634918610405,\n",
       " (21,35) 57.55634918610405,\n",
       " (21,34) 55.55634918610405,\n",
       " (22,33) 52.14213562373095,\n",
       " (23,32) 48.72792206135786,\n",
       " (24,31) 45.31370849898477,\n",
       " (25,30) 43.89949493661167,\n",
       " (25,29) 43.89949493661167,\n",
       " (24,28) 44.485281374238575,\n",
       " (23,27) 45.071067811865476,\n",
       " (22,26) 45.65685424949238,\n",
       " (21,25) 46.242640687119284,\n",
       " (20,24) 46.82842712474619,\n",
       " (20,23) 46.82842712474619,\n",
       " (20,22) 46.82842712474619,\n",
       " (20,21) 46.82842712474619,\n",
       " (20,20) 46.82842712474619,\n",
       " (19,19) 47.41421356237309,\n",
       " (18,18) 48]"
      ]
     },
     "execution_count": 99,
     "metadata": {},
     "output_type": "execute_result"
    }
   ],
   "source": [
    "path"
   ]
  },
  {
   "cell_type": "code",
   "execution_count": 21,
   "id": "gorgeous-hierarchy",
   "metadata": {},
   "outputs": [],
   "source": [
    "rotate(pub,np.pi,odom)"
   ]
  },
  {
   "cell_type": "code",
   "execution_count": 223,
   "id": "preceding-occasion",
   "metadata": {},
   "outputs": [],
   "source": [
    "grid[:,:] = 0"
   ]
  },
  {
   "cell_type": "code",
   "execution_count": 24,
   "id": "signal-today",
   "metadata": {},
   "outputs": [
    {
     "data": {
      "image/png": "[encoded data removed]",
      "text/plain": [
       "<Figure size 288x288 with 1 Axes>"
      ]
     },
     "metadata": {
      "needs_background": "light"
     },
     "output_type": "display_data"
    },
    {
     "data": {
      "text/plain": [
       "None"
      ]
     },
     "metadata": {},
     "output_type": "display_data"
    },
    {
     "name": "stdout",
     "output_type": "stream",
     "text": [
      "[2.0, 2.0500000000000003]\n"
     ]
    },
    {
     "ename": "KeyboardInterrupt",
     "evalue": "",
     "output_type": "error",
     "traceback": [
      "\u001b[0;31m---------------------------------------------------------------------------\u001b[0m",
      "\u001b[0;31mKeyboardInterrupt\u001b[0m                         Traceback (most recent call last)",
      "\u001b[0;32m<ipython-input-24-57d64e7ef0e4>\u001b[0m in \u001b[0;36m<module>\u001b[0;34m\u001b[0m\n\u001b[1;32m      1\u001b[0m \u001b[0;32mwhile\u001b[0m \u001b[0;32mTrue\u001b[0m\u001b[0;34m:\u001b[0m\u001b[0;34m\u001b[0m\u001b[0;34m\u001b[0m\u001b[0m\n\u001b[1;32m      2\u001b[0m     \u001b[0mupdateGrid\u001b[0m\u001b[0;34m(\u001b[0m\u001b[0mpos\u001b[0m\u001b[0;34m[\u001b[0m\u001b[0;36m0\u001b[0m\u001b[0;34m]\u001b[0m\u001b[0;34m,\u001b[0m\u001b[0mpos\u001b[0m\u001b[0;34m[\u001b[0m\u001b[0;36m1\u001b[0m\u001b[0;34m]\u001b[0m\u001b[0;34m,\u001b[0m\u001b[0modom\u001b[0m\u001b[0;34m,\u001b[0m\u001b[0msc\u001b[0m\u001b[0;34m)\u001b[0m\u001b[0;34m\u001b[0m\u001b[0;34m\u001b[0m\u001b[0m\n\u001b[0;32m----> 3\u001b[0;31m     \u001b[0mroute\u001b[0m \u001b[0;34m=\u001b[0m \u001b[0mgetRoute\u001b[0m\u001b[0;34m(\u001b[0m\u001b[0mbad\u001b[0m\u001b[0;34m,\u001b[0m\u001b[0;36m3\u001b[0m\u001b[0;34m)\u001b[0m\u001b[0;34m\u001b[0m\u001b[0;34m\u001b[0m\u001b[0m\n\u001b[0m\u001b[1;32m      4\u001b[0m     \u001b[0mpath\u001b[0m \u001b[0;34m=\u001b[0m \u001b[0mroute\u001b[0m\u001b[0;34m.\u001b[0m\u001b[0mgetPath\u001b[0m\u001b[0;34m(\u001b[0m\u001b[0;34m)\u001b[0m\u001b[0;34m\u001b[0m\u001b[0;34m\u001b[0m\u001b[0m\n\u001b[1;32m      5\u001b[0m \u001b[0;34m\u001b[0m\u001b[0m\n",
      "\u001b[0;32m~/Desktop/rgp/planning.py\u001b[0m in \u001b[0;36mgetRoute\u001b[0;34m(fake_obstacles, distance)\u001b[0m\n\u001b[1;32m    131\u001b[0m     \u001b[0;32mfor\u001b[0m \u001b[0mi\u001b[0m \u001b[0;32min\u001b[0m \u001b[0mrange\u001b[0m\u001b[0;34m(\u001b[0m\u001b[0mdistance\u001b[0m\u001b[0;34m)\u001b[0m\u001b[0;34m:\u001b[0m\u001b[0;34m\u001b[0m\u001b[0;34m\u001b[0m\u001b[0m\n\u001b[1;32m    132\u001b[0m         \u001b[0;32mfor\u001b[0m \u001b[0mn\u001b[0m \u001b[0;32min\u001b[0m \u001b[0mclosed_list\u001b[0m\u001b[0;34m:\u001b[0m\u001b[0;34m\u001b[0m\u001b[0;34m\u001b[0m\u001b[0m\n\u001b[0;32m--> 133\u001b[0;31m             \u001b[0mtoo_close\u001b[0m \u001b[0;34m+=\u001b[0m \u001b[0mn\u001b[0m\u001b[0;34m.\u001b[0m\u001b[0mgetChildren\u001b[0m\u001b[0;34m(\u001b[0m\u001b[0;34m)\u001b[0m\u001b[0;34m\u001b[0m\u001b[0;34m\u001b[0m\u001b[0m\n\u001b[0m\u001b[1;32m    134\u001b[0m \u001b[0;34m\u001b[0m\u001b[0m\n\u001b[1;32m    135\u001b[0m         \u001b[0mclosed_list\u001b[0m \u001b[0;34m=\u001b[0m \u001b[0mclosed_list\u001b[0m\u001b[0;34m+\u001b[0m\u001b[0mtoo_close\u001b[0m\u001b[0;34m\u001b[0m\u001b[0;34m\u001b[0m\u001b[0m\n",
      "\u001b[0;32m~/Desktop/rgp/planning.py\u001b[0m in \u001b[0;36mgetChildren\u001b[0;34m(self, k)\u001b[0m\n\u001b[1;32m     49\u001b[0m             \u001b[0mNode\u001b[0m\u001b[0;34m(\u001b[0m\u001b[0mself\u001b[0m\u001b[0;34m.\u001b[0m\u001b[0mx\u001b[0m\u001b[0;34m-\u001b[0m\u001b[0;36m1\u001b[0m\u001b[0;34m,\u001b[0m\u001b[0mself\u001b[0m\u001b[0;34m.\u001b[0m\u001b[0my\u001b[0m\u001b[0;34m+\u001b[0m\u001b[0;36m1\u001b[0m\u001b[0;34m,\u001b[0m\u001b[0mself\u001b[0m\u001b[0;34m)\u001b[0m\u001b[0;34m,\u001b[0m\u001b[0;34m\u001b[0m\u001b[0;34m\u001b[0m\u001b[0m\n\u001b[1;32m     50\u001b[0m             \u001b[0mNode\u001b[0m\u001b[0;34m(\u001b[0m\u001b[0mself\u001b[0m\u001b[0;34m.\u001b[0m\u001b[0mx\u001b[0m\u001b[0;34m+\u001b[0m\u001b[0;36m1\u001b[0m\u001b[0;34m,\u001b[0m\u001b[0mself\u001b[0m\u001b[0;34m.\u001b[0m\u001b[0my\u001b[0m\u001b[0;34m-\u001b[0m\u001b[0;36m1\u001b[0m\u001b[0;34m,\u001b[0m\u001b[0mself\u001b[0m\u001b[0;34m)\u001b[0m\u001b[0;34m,\u001b[0m\u001b[0;34m\u001b[0m\u001b[0;34m\u001b[0m\u001b[0m\n\u001b[0;32m---> 51\u001b[0;31m             \u001b[0mNode\u001b[0m\u001b[0;34m(\u001b[0m\u001b[0mself\u001b[0m\u001b[0;34m.\u001b[0m\u001b[0mx\u001b[0m\u001b[0;34m,\u001b[0m\u001b[0mself\u001b[0m\u001b[0;34m.\u001b[0m\u001b[0my\u001b[0m\u001b[0;34m-\u001b[0m\u001b[0;36m1\u001b[0m\u001b[0;34m,\u001b[0m\u001b[0mself\u001b[0m\u001b[0;34m)\u001b[0m\u001b[0;34m\u001b[0m\u001b[0;34m\u001b[0m\u001b[0m\n\u001b[0m\u001b[1;32m     52\u001b[0m         ] if n.x >= 0 and n.x < 6*fidelty-1 and n.y >= 0 and n.y < 6*fidelty-1]\n\u001b[1;32m     53\u001b[0m \u001b[0;34m\u001b[0m\u001b[0m\n",
      "\u001b[0;32m~/Desktop/rgp/planning.py\u001b[0m in \u001b[0;36m__init__\u001b[0;34m(self, x, y, parent)\u001b[0m\n\u001b[1;32m     16\u001b[0m         \u001b[0mself\u001b[0m\u001b[0;34m.\u001b[0m\u001b[0mparent\u001b[0m \u001b[0;34m=\u001b[0m \u001b[0mparent\u001b[0m\u001b[0;34m\u001b[0m\u001b[0;34m\u001b[0m\u001b[0m\n\u001b[1;32m     17\u001b[0m \u001b[0;34m\u001b[0m\u001b[0m\n\u001b[0;32m---> 18\u001b[0;31m         \u001b[0mself\u001b[0m\u001b[0;34m.\u001b[0m\u001b[0mh\u001b[0m \u001b[0;34m=\u001b[0m \u001b[0mself\u001b[0m\u001b[0;34m.\u001b[0m\u001b[0mheuristic\u001b[0m\u001b[0;34m(\u001b[0m\u001b[0;34m)\u001b[0m\u001b[0;34m\u001b[0m\u001b[0;34m\u001b[0m\u001b[0m\n\u001b[0m\u001b[1;32m     19\u001b[0m \u001b[0;34m\u001b[0m\u001b[0m\n\u001b[1;32m     20\u001b[0m         \u001b[0;32mif\u001b[0m \u001b[0mparent\u001b[0m\u001b[0;34m:\u001b[0m\u001b[0;34m\u001b[0m\u001b[0;34m\u001b[0m\u001b[0m\n",
      "\u001b[0;32m~/Desktop/rgp/planning.py\u001b[0m in \u001b[0;36mheuristic\u001b[0;34m(self)\u001b[0m\n\u001b[1;32m     37\u001b[0m         \u001b[0mfactor\u001b[0m \u001b[0;34m=\u001b[0m \u001b[0;36m1\u001b[0m \u001b[0;32mif\u001b[0m \u001b[0mself\u001b[0m\u001b[0;34m.\u001b[0m\u001b[0mcost\u001b[0m\u001b[0;34m(\u001b[0m\u001b[0;34m)\u001b[0m \u001b[0;34m>\u001b[0m \u001b[0;36m1.1\u001b[0m \u001b[0;32melse\u001b[0m \u001b[0;36m0.1\u001b[0m\u001b[0;34m\u001b[0m\u001b[0;34m\u001b[0m\u001b[0m\n\u001b[1;32m     38\u001b[0m \u001b[0;34m\u001b[0m\u001b[0m\n\u001b[0;32m---> 39\u001b[0;31m         \u001b[0;32mreturn\u001b[0m \u001b[0mdist\u001b[0m\u001b[0;34m(\u001b[0m\u001b[0mself\u001b[0m\u001b[0;34m.\u001b[0m\u001b[0mx\u001b[0m\u001b[0;34m,\u001b[0m\u001b[0mself\u001b[0m\u001b[0;34m.\u001b[0m\u001b[0my\u001b[0m\u001b[0;34m,\u001b[0m\u001b[0mgoal\u001b[0m\u001b[0;34m[\u001b[0m\u001b[0;36m0\u001b[0m\u001b[0;34m]\u001b[0m\u001b[0;34m,\u001b[0m\u001b[0mgoal\u001b[0m\u001b[0;34m[\u001b[0m\u001b[0;36m1\u001b[0m\u001b[0;34m]\u001b[0m\u001b[0;34m)\u001b[0m \u001b[0;34m*\u001b[0m \u001b[0mfactor\u001b[0m\u001b[0;34m\u001b[0m\u001b[0;34m\u001b[0m\u001b[0m\n\u001b[0m\u001b[1;32m     40\u001b[0m \u001b[0;34m\u001b[0m\u001b[0m\n\u001b[1;32m     41\u001b[0m     \u001b[0;32mdef\u001b[0m \u001b[0mgetChildren\u001b[0m\u001b[0;34m(\u001b[0m\u001b[0mself\u001b[0m\u001b[0;34m,\u001b[0m\u001b[0mk\u001b[0m\u001b[0;34m=\u001b[0m\u001b[0;36m1\u001b[0m\u001b[0;34m)\u001b[0m\u001b[0;34m:\u001b[0m\u001b[0;34m\u001b[0m\u001b[0;34m\u001b[0m\u001b[0m\n",
      "\u001b[0;32m~/Desktop/rgp/planning.py\u001b[0m in \u001b[0;36mdist\u001b[0;34m(x, y, a, b)\u001b[0m\n\u001b[1;32m      7\u001b[0m \u001b[0;34m\u001b[0m\u001b[0m\n\u001b[1;32m      8\u001b[0m \u001b[0;32mdef\u001b[0m \u001b[0mdist\u001b[0m\u001b[0;34m(\u001b[0m\u001b[0mx\u001b[0m\u001b[0;34m,\u001b[0m\u001b[0my\u001b[0m\u001b[0;34m,\u001b[0m\u001b[0ma\u001b[0m\u001b[0;34m,\u001b[0m\u001b[0mb\u001b[0m\u001b[0;34m)\u001b[0m\u001b[0;34m:\u001b[0m\u001b[0;34m\u001b[0m\u001b[0;34m\u001b[0m\u001b[0m\n\u001b[0;32m----> 9\u001b[0;31m     \u001b[0;32mreturn\u001b[0m \u001b[0mnp\u001b[0m\u001b[0;34m.\u001b[0m\u001b[0msqrt\u001b[0m\u001b[0;34m(\u001b[0m\u001b[0;34m(\u001b[0m\u001b[0mx\u001b[0m\u001b[0;34m-\u001b[0m\u001b[0ma\u001b[0m\u001b[0;34m)\u001b[0m\u001b[0;34m**\u001b[0m\u001b[0;36m2\u001b[0m\u001b[0;34m+\u001b[0m\u001b[0;34m(\u001b[0m\u001b[0mb\u001b[0m\u001b[0;34m-\u001b[0m\u001b[0my\u001b[0m\u001b[0;34m)\u001b[0m\u001b[0;34m**\u001b[0m\u001b[0;36m2\u001b[0m\u001b[0;34m)\u001b[0m\u001b[0;34m\u001b[0m\u001b[0;34m\u001b[0m\u001b[0m\n\u001b[0m\u001b[1;32m     10\u001b[0m \u001b[0;34m\u001b[0m\u001b[0m\n\u001b[1;32m     11\u001b[0m \u001b[0;32mclass\u001b[0m \u001b[0mNode\u001b[0m\u001b[0;34m:\u001b[0m\u001b[0;34m\u001b[0m\u001b[0;34m\u001b[0m\u001b[0m\n",
      "\u001b[0;31mKeyboardInterrupt\u001b[0m: "
     ]
    }
   ],
   "source": [
    "while True:\n",
    "    updateGrid(pos[0],pos[1],odom,sc)\n",
    "    route = getRoute(bad,3)\n",
    "    path = route.getPath()\n",
    "    \n",
    "    if len(path) < 3:\n",
    "        break        \n",
    "    \n",
    "    closest = path[-2:]\n",
    "\n",
    "    a = closest[0]\n",
    "    b = closest[-1]\n",
    "    v = -np.array((b.y-a.y,b.x-a.x))*fidelty/10\n",
    "\n",
    "   \n",
    "    \n",
    "    result = np.copy(grid)\n",
    "\n",
    "    for node in route.getPath():\n",
    "        result[node.x,node.y] = 5\n",
    "\n",
    "    clear_output()\n",
    "    plt.matshow(result)\n",
    "    display(plt.show())\n",
    "    print(pos)\n",
    "    \n",
    "    drive(pub,v,odom)\n",
    "    \n",
    "    pos[0] += v[0]/fidelty\n",
    "    pos[1] += v[1]/fidelty\n",
    "    \n",
    "    #break\n",
    "    \n",
    "rotate(pub,0,odom)\n",
    "\n",
    "#import numpy as np\n",
    "#result = np.copy(grid)\n",
    "\n",
    "#for node in route.getPath():\n",
    "#    result[node.x,node.y] = 5\n",
    "\n",
    "  \n",
    "    \n",
    "#print(v)\n",
    "#plt.matshow(result)"
   ]
  },
  {
   "cell_type": "code",
   "execution_count": 25,
   "id": "direct-casting",
   "metadata": {},
   "outputs": [
    {
     "data": {
      "image/png": "[encoded data removed]",
      "text/plain": [
       "<Figure size 288x288 with 1 Axes>"
      ]
     },
     "metadata": {
      "needs_background": "light"
     },
     "output_type": "display_data"
    },
    {
     "name": "stdout",
     "output_type": "stream",
     "text": [
      "shutdown request: [/runner] Reason: new node registered with same name\n"
     ]
    }
   ],
   "source": [
    "plt.matshow(result)\n",
    "plt.savefig('images/astar_B1.png', dpi=300)"
   ]
  },
  {
   "cell_type": "code",
   "execution_count": 205,
   "id": "numerical-domain",
   "metadata": {},
   "outputs": [],
   "source": [
    "from localisation import moveStraightForTime,rotate,abs_rotate"
   ]
  },
  {
   "cell_type": "code",
   "execution_count": 202,
   "id": "proof-stanley",
   "metadata": {},
   "outputs": [],
   "source": [
    "rotate(pub,-2.35,odom)"
   ]
  },
  {
   "cell_type": "code",
   "execution_count": 183,
   "id": "previous-cancer",
   "metadata": {},
   "outputs": [
    {
     "data": {
      "text/plain": [
       "-2.356194490192345"
      ]
     },
     "execution_count": 183,
     "metadata": {},
     "output_type": "execute_result"
    }
   ],
   "source": [
    "np.arctan2(v[0],-v[1])"
   ]
  },
  {
   "cell_type": "code",
   "execution_count": 200,
   "id": "informative-bloom",
   "metadata": {},
   "outputs": [
    {
     "name": "stdout",
     "output_type": "stream",
     "text": [
      "-5.453125478454163\n",
      "0.8300598287254228\n"
     ]
    }
   ],
   "source": [
    "angle = -5.453125478454163\n",
    "    \n",
    "print(angle)\n",
    "if abs(angle) > np.pi:\n",
    "    angle = (angle+2*np.pi*np.sign(-angle))\n",
    "    print(angle)   \n",
    "    "
   ]
  },
  {
   "cell_type": "code",
   "execution_count": null,
   "id": "particular-tsunami",
   "metadata": {},
   "outputs": [],
   "source": []
  }
 ],
 "metadata": {
  "kernelspec": {
   "display_name": "Python 3",
   "language": "python",
   "name": "python3"
  },
  "language_info": {
   "codemirror_mode": {
    "name": "ipython",
    "version": 3
   },
   "file_extension": ".py",
   "mimetype": "text/x-python",
   "name": "python",
   "nbconvert_exporter": "python",
   "pygments_lexer": "ipython3",
   "version": "3.6.9"
  }
 },
 "nbformat": 4,
 "nbformat_minor": 5
}
