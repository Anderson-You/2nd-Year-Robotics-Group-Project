{
 "cells": [
  {
   "cell_type": "markdown",
   "metadata": {},
   "source": [
    "`TURTLEBOT3_MODEL=waffle_rgp roslaunch turtlebot3_gazebo turtlebot3_rgp.launch`"
   ]
  },
  {
   "cell_type": "code",
   "execution_count": 1,
   "metadata": {},
   "outputs": [],
   "source": [
    "import rospy as rp\n",
    "import jupyros as jr\n",
    "import numpy as np"
   ]
  },
  {
   "cell_type": "code",
   "execution_count": 2,
   "metadata": {},
   "outputs": [],
   "source": [
    "from geometry_msgs.msg import Pose\n",
    "rp.init_node('runner')"
   ]
  },
  {
   "cell_type": "code",
   "execution_count": 3,
   "metadata": {},
   "outputs": [],
   "source": [
    "from geometry_msgs.msg import Pose, Twist\n",
    "import math\n",
    "from sensor_msgs.msg import Image,Illuminance,LaserScan\n",
    "import cv2"
   ]
  },
  {
   "cell_type": "code",
   "execution_count": 4,
   "metadata": {},
   "outputs": [],
   "source": [
    "def getIlluminance(imgdata,width,height):\n",
    "    _fov = 6\n",
    "    startingPix = width * (height//2 -  _fov//2) - _fov//2;\n",
    "\n",
    "    illum = 0;\n",
    "    for i in range(_fov):\n",
    "        index = startingPix + i*width\n",
    "        for j in range(_fov):\n",
    "            illum += imgdata[index+j];\n",
    "\n",
    "    return illum/(_fov*_fov)"
   ]
  },
  {
   "cell_type": "code",
   "execution_count": 5,
   "metadata": {},
   "outputs": [],
   "source": [
    "speed = 0\n",
    "turn = 0"
   ]
  },
  {
   "cell_type": "code",
   "execution_count": 6,
   "metadata": {},
   "outputs": [
    {
     "name": "stdout",
     "output_type": "stream",
     "text": [
      "0 0\n"
     ]
    }
   ],
   "source": [
    "print(speed,turn)"
   ]
  },
  {
   "cell_type": "code",
   "execution_count": 7,
   "metadata": {},
   "outputs": [],
   "source": [
    "class PID:\n",
    "    def __init__(self,Kp,Ki,Kd):\n",
    "        self.Kp = Kp\n",
    "        self.Ki = Ki\n",
    "        self.Kd = Kd\n",
    "        self.lastError = 0\n",
    "        self.I = 0\n",
    "        \n",
    "    def value(self,e):\n",
    "        P = e\n",
    "        self.I = self.I + e\n",
    "        D = e - self.lastError\n",
    "        \n",
    "        self.lastError = e\n",
    "        \n",
    "        return P*self.Kp+self.I*self.Ki+D*self.Kd"
   ]
  },
  {
   "cell_type": "code",
   "execution_count": 8,
   "metadata": {},
   "outputs": [],
   "source": [
    "lfPID = PID(0.3,0,-0.08)\n",
    "\n",
    "def drive(ls):    \n",
    "    global speed\n",
    "    global turn\n",
    "    \n",
    "    if min(ls) > 80:\n",
    "        speed = -0.1\n",
    "        turn = 0\n",
    "    else:\n",
    "        k = [l if l < 55 else 155 for l in ls]\n",
    "        error = (8-np.argmin(ls))#8 - sum([i*ls[i] for i in range(len(ls))])/sum(ls)\n",
    "        turn =lfPID.value(error)\n",
    "        \n",
    "        #if turn > 1:\n",
    "        #    turn = 1\n",
    "        #elif turn < -1:\n",
    "        #    turn = -1\n",
    "        \n",
    "        speed = max(0.3-abs(turn)*0.15,0)\n",
    "        \n",
    "    return speed,turn"
   ]
  },
  {
   "cell_type": "code",
   "execution_count": 9,
   "metadata": {},
   "outputs": [
    {
     "ename": "NameError",
     "evalue": "name 'control_turn' is not defined",
     "output_type": "error",
     "traceback": [
      "\u001b[0;31m---------------------------------------------------------------------------\u001b[0m",
      "\u001b[0;31mNameError\u001b[0m                                 Traceback (most recent call last)",
      "\u001b[0;32m<ipython-input-9-ac662aad9156>\u001b[0m in \u001b[0;36m<module>\u001b[0;34m\u001b[0m\n\u001b[0;32m----> 1\u001b[0;31m \u001b[0mcontrol_turn\u001b[0m\u001b[0;34m\u001b[0m\u001b[0;34m\u001b[0m\u001b[0m\n\u001b[0m",
      "\u001b[0;31mNameError\u001b[0m: name 'control_turn' is not defined"
     ]
    }
   ],
   "source": [
    "control_turn"
   ]
  },
  {
   "cell_type": "code",
   "execution_count": 10,
   "metadata": {},
   "outputs": [
    {
     "ename": "NameError",
     "evalue": "name 'qs' is not defined",
     "output_type": "error",
     "traceback": [
      "\u001b[0;31m---------------------------------------------------------------------------\u001b[0m",
      "\u001b[0;31mNameError\u001b[0m                                 Traceback (most recent call last)",
      "\u001b[0;32m<ipython-input-10-16fc438f0a50>\u001b[0m in \u001b[0;36m<module>\u001b[0;34m\u001b[0m\n\u001b[0;32m----> 1\u001b[0;31m \u001b[0mqs\u001b[0m\u001b[0;34m\u001b[0m\u001b[0;34m\u001b[0m\u001b[0m\n\u001b[0m",
      "\u001b[0;31mNameError\u001b[0m: name 'qs' is not defined"
     ]
    }
   ],
   "source": [
    "qs"
   ]
  },
  {
   "cell_type": "code",
   "execution_count": 11,
   "metadata": {},
   "outputs": [
    {
     "ename": "NameError",
     "evalue": "name 'qs' is not defined",
     "output_type": "error",
     "traceback": [
      "\u001b[0;31m---------------------------------------------------------------------------\u001b[0m",
      "\u001b[0;31mNameError\u001b[0m                                 Traceback (most recent call last)",
      "\u001b[0;32m<ipython-input-11-9112efe5a0bb>\u001b[0m in \u001b[0;36m<module>\u001b[0;34m\u001b[0m\n\u001b[0;32m----> 1\u001b[0;31m \u001b[0mnp\u001b[0m\u001b[0;34m.\u001b[0m\u001b[0margmin\u001b[0m\u001b[0;34m(\u001b[0m\u001b[0mqs\u001b[0m\u001b[0;34m)\u001b[0m\u001b[0;34m\u001b[0m\u001b[0;34m\u001b[0m\u001b[0m\n\u001b[0m",
      "\u001b[0;31mNameError\u001b[0m: name 'qs' is not defined"
     ]
    }
   ],
   "source": [
    "np.argmin(qs)"
   ]
  },
  {
   "cell_type": "code",
   "execution_count": 12,
   "metadata": {},
   "outputs": [],
   "source": [
    "d = True"
   ]
  },
  {
   "cell_type": "code",
   "execution_count": 13,
   "metadata": {},
   "outputs": [],
   "source": [
    "avoidance=0"
   ]
  },
  {
   "cell_type": "code",
   "execution_count": 14,
   "metadata": {},
   "outputs": [],
   "source": [
    "oPID = PID(1e-2,1e-5,1e-4)"
   ]
  },
  {
   "cell_type": "code",
   "execution_count": 15,
   "metadata": {},
   "outputs": [],
   "source": [
    "def front_lidar(ranges,ls,a):\n",
    "    global d\n",
    "    global sa \n",
    "    \n",
    "    val = np.min(ranges[:30]+ranges[-30:])\n",
    "    \n",
    "    if val < 0.35:\n",
    "        if left < right:\n",
    "            if a == 1:\n",
    "                d=False\n",
    "            return a+1,0.0,-0.5\n",
    "        else:\n",
    "            if a == 1:\n",
    "                d=True\n",
    "            return a+1,0.0,0.5"
   ]
  },
  {
   "cell_type": "code",
   "execution_count": 35,
   "metadata": {},
   "outputs": [],
   "source": [
    "oPID = PID(2e-3,1e-8,1e-2)#1e-5,1e-4)"
   ]
  },
  {
   "cell_type": "code",
   "execution_count": 42,
   "metadata": {},
   "outputs": [],
   "source": [
    "\n",
    "def handle_scan(ranges,ls,a):\n",
    "    global d\n",
    "    \n",
    "    left = ranges[60]\n",
    "    right = ranges[-60]\n",
    "    \n",
    "    val = np.min(ranges[:30]+ranges[-30:])\n",
    "\n",
    "    if a != 1 and val < 0.35:\n",
    "        if left < right:\n",
    "            if a == 0:\n",
    "                d=False\n",
    "            return 1,0.0,0.0\n",
    "        else:\n",
    "            if a == 0:\n",
    "                d=True\n",
    "            return 1,0.0,0.0\n",
    "    elif a == 1:\n",
    "        val = np.min(ranges[:30]+ranges[-30:])\n",
    "    \n",
    "        if val < 0.35:\n",
    "            return a,-0.1,0.0\n",
    "        else:\n",
    "            return a+1,0,0\n",
    "    elif a == 2:\n",
    "        mi = np.argmin(ranges) \n",
    "        \n",
    "        if mi > 80 and mi < 100 or mi > 260 and mi < 280:\n",
    "            return a+1,0.2,0\n",
    "        elif not d:\n",
    "            return a,0.0,-0.5\n",
    "        else:\n",
    "            return a,0.0,0.5\n",
    "    elif a == 3:\n",
    "        if np.min(ls) < 50:\n",
    "            return a,0.2,0\n",
    "        else:\n",
    "            return a+1,0,0\n",
    "    elif a == 4:      \n",
    "        #return a,0,0\n",
    "        if np.min(ls) < 30:\n",
    "            return a+1,0,0 \n",
    "        \n",
    "        idx = 90 if not d else 270\n",
    "        \n",
    "        #vals = np.array([v if v != np.inf else 10 for v in ranges])\n",
    "        \n",
    "        #min_dist = min(np.min(vals),0.8)\n",
    "        #amin = np.argmin(vals)\n",
    "                          \n",
    "        #if min_dist < 0.2:\n",
    "        #    return a,0.05,0.1 if d else -0.1\n",
    "        #elif min_dist > 0.35:\n",
    "        #    error =  (idx - np.argmin(vals))#0.5-np.mean(vals[idx-30:idx+30]*1000)#(idx - np.argmin(vals))#0.5-np.mean(vals[idx-20:idx+20])#(idx - np.argmin(vals))\n",
    "        #\n",
    "        #    turn = -oPID.value(error)\n",
    "        #    return a,0.3,turn\n",
    "        \n",
    "        r = np.array([v if v < 1 else 10 for v in sc[idx:]+sc[:idx]])\n",
    "        \n",
    "        error =  (180-np.argmin(r-0.15))+(np.min(r)-0.15)*2000*(-1 if d else 1)#(idx - np.argmin(vals))#0.5-np.mean(vals[idx-30:idx+30]*1000)#(idx - np.argmin(vals))#0.5-np.mean(vals[idx-20:idx+20])#(idx - np.argmin(vals))\n",
    "        \n",
    "        turn = oPID.value(error)\n",
    "        \n",
    "        if turn > 1:\n",
    "            turn = 1\n",
    "        elif turn < -1:\n",
    "            turn = -1\n",
    "        \n",
    "        speed = max(0.3-abs(turn)*1.2,0.1)\n",
    "        \n",
    "        return a,speed,turn\n",
    "        #if not d:\n",
    "        #    m = np.min(ranges[80:100])\n",
    "        #    return a,0.2,m/4 if m > 0.5 and np.max(ranges[80:100]) < 2 else -0.1\n",
    "        #else:\n",
    "        #    m = np.min(ranges[260:280])\n",
    "        #    return a,0.2,-m/4 if m > 0.5 and np.max(ranges[260:280]) < 2 else 0.1\n",
    "    elif a == 5:  \n",
    "        mi = np.argmin(ranges) \n",
    "        \n",
    "        if mi > 160 and mi < 200 or min(ls) > 50:\n",
    "            return 0,0,0\n",
    "        elif not d:\n",
    "            return a,0.05,-0.5\n",
    "        else:\n",
    "            return a,0.05,0.5\n",
    "        \n",
    "    return 0,0,0 "
   ]
  },
  {
   "cell_type": "code",
   "execution_count": 18,
   "metadata": {},
   "outputs": [
    {
     "ename": "NameError",
     "evalue": "name 'qs' is not defined",
     "output_type": "error",
     "traceback": [
      "\u001b[0;31m---------------------------------------------------------------------------\u001b[0m",
      "\u001b[0;31mNameError\u001b[0m                                 Traceback (most recent call last)",
      "\u001b[0;32m<ipython-input-18-16fc438f0a50>\u001b[0m in \u001b[0;36m<module>\u001b[0;34m\u001b[0m\n\u001b[0;32m----> 1\u001b[0;31m \u001b[0mqs\u001b[0m\u001b[0;34m\u001b[0m\u001b[0;34m\u001b[0m\u001b[0m\n\u001b[0m",
      "\u001b[0;31mNameError\u001b[0m: name 'qs' is not defined"
     ]
    }
   ],
   "source": [
    "qs"
   ]
  },
  {
   "cell_type": "code",
   "execution_count": 19,
   "metadata": {},
   "outputs": [],
   "source": [
    "avoidance=0"
   ]
  },
  {
   "cell_type": "code",
   "execution_count": 20,
   "metadata": {},
   "outputs": [
    {
     "ename": "NameError",
     "evalue": "name 'control_speed' is not defined",
     "output_type": "error",
     "traceback": [
      "\u001b[0;31m---------------------------------------------------------------------------\u001b[0m",
      "\u001b[0;31mNameError\u001b[0m                                 Traceback (most recent call last)",
      "\u001b[0;32m<ipython-input-20-68a509d34ac5>\u001b[0m in \u001b[0;36m<module>\u001b[0;34m\u001b[0m\n\u001b[0;32m----> 1\u001b[0;31m \u001b[0mcontrol_speed\u001b[0m\u001b[0;34m\u001b[0m\u001b[0;34m\u001b[0m\u001b[0m\n\u001b[0m",
      "\u001b[0;31mNameError\u001b[0m: name 'control_speed' is not defined"
     ]
    }
   ],
   "source": [
    "control_speed"
   ]
  },
  {
   "cell_type": "code",
   "execution_count": 21,
   "metadata": {},
   "outputs": [],
   "source": [
    "from multiprocessing import Queue\n",
    "from functools import partial \n",
    "\n",
    "stop = False\n",
    "\n",
    "speed = 0.1\n",
    "turn = 0.5\n",
    "\n",
    "control_speed=0\n",
    "control_turn=0\n",
    "\n",
    "thresh_illum = 100\n",
    "\n",
    "n = 16\n",
    "\n",
    "pub = rp.Publisher('/cmd_vel', Twist,queue_size=10)\n",
    "\n",
    "qs = [0]*n\n",
    "\n",
    "def setQi(x,i):\n",
    "    global qs\n",
    "    qs[i] = x.illuminance\n",
    "    \n",
    "sc = None\n",
    "\n",
    "def setSc(x):\n",
    "    global sc\n",
    "    sc = x.ranges\n",
    "    \n",
    "cams = [rp.Subscriber(\"/camera_{}/rgb/image_raw\".format(i),Image) for i in range(n)]\n",
    "subs = [rp.Subscriber(\"/light_sensor_plugin/lightSensor/camera_{}\".format(i),Illuminance,partial(lambda x,k:setQi(x,k),k=i)) for i in range(n)]\n",
    "scans = rp.Subscriber(\"/scan\",LaserScan,setSc)"
   ]
  },
  {
   "cell_type": "code",
   "execution_count": 22,
   "metadata": {},
   "outputs": [
    {
     "data": {
      "application/vnd.jupyter.widget-view+json": {
       "model_id": "e5597ede24cb4f7a9a927898f57014b1",
       "version_major": 2,
       "version_minor": 0
      },
      "text/plain": [
       "Output(layout=Layout(border='1px solid gray'), outputs=({'output_type': 'stream', 'name': 'stdout', 'text': 's…"
      ]
     },
     "metadata": {},
     "output_type": "display_data"
    }
   ],
   "source": [
    "%%thread_cell\n",
    "\n",
    "import time\n",
    "\n",
    "last_speed = 0\n",
    "last_turn = 0\n",
    "\n",
    "print(\"start\")\n",
    "\n",
    "avoidance = 0\n",
    "\n",
    "while not stop:\n",
    "    #if qright is None or qleft is None:\n",
    "    #    time.sleep(0.1)\n",
    "    #    continue\n",
    "        \n",
    "    #dIllum = illumLeft - illumRight\n",
    "    \n",
    "    #if dIllum > thresh_illum:\n",
    "    #    control_speed = 0\n",
    "    #    control_turn = -turn\n",
    "    #elif dIllum < -thresh_illum:\n",
    "    #    control_speed = 0\n",
    "    #    control_turn = turn\n",
    "    #else:\n",
    "    #    control_speed = min(0.15,control_speed+0.005)#min(speed,control_speed+0.01) \n",
    "    #    control_turn *= 0.8\n",
    "    \n",
    "    #if last_speed != control_speed or last_turn != control_turn:\n",
    "    avoidance,control_speed,control_turn = handle_scan(sc,qs,avoidance)\n",
    "    \n",
    "    if avoidance == 0:\n",
    "        (control_speed,control_turn) = drive(qs)\n",
    "    \n",
    "    twist = Twist()\n",
    "    twist.linear.x = control_speed; twist.linear.y = 0; twist.linear.z = 0\n",
    "    twist.angular.x = 0; twist.angular.y = 0; twist.angular.z = control_turn\n",
    "    pub.publish(twist)\n",
    "            \n",
    "    last_speed = control_speed\n",
    "    last_turn = control_turn\n",
    "    \n",
    "    time.sleep(0.01)\n",
    "    \n",
    "twist = Twist()\n",
    "twist.linear.x = 0; twist.linear.y = 0; twist.linear.z = 0\n",
    "twist.angular.x = 0; twist.angular.y = 0; twist.angular.z = 0\n",
    "pub.publish(twist)\n",
    "    \n",
    "print(\"unregistering\")\n",
    "for cam in cams:\n",
    "    cam.unregister()\n",
    "    \n",
    "for sub in subs:\n",
    "    sub.unregister()\n",
    "pub.unregister()\n",
    "scans.unregister()\n",
    "print(\"done\")"
   ]
  },
  {
   "cell_type": "code",
   "execution_count": 43,
   "metadata": {},
   "outputs": [],
   "source": [
    "stop = True"
   ]
  },
  {
   "cell_type": "code",
   "execution_count": 221,
   "metadata": {},
   "outputs": [],
   "source": [
    "for cam in cams:\n",
    "    cam.unregister()\n",
    "    \n",
    "\n",
    "for sub in subs:\n",
    "    sub.unregister()\n",
    "pub.unregister()\n",
    "scans.unregister()"
   ]
  },
  {
   "cell_type": "code",
   "execution_count": 207,
   "metadata": {},
   "outputs": [
    {
     "data": {
      "text/plain": [
       "0.25937424601000025"
      ]
     },
     "execution_count": 207,
     "metadata": {},
     "output_type": "execute_result"
    }
   ],
   "source": [
    "0.1*1.1**10"
   ]
  },
  {
   "cell_type": "code",
   "execution_count": 24,
   "metadata": {},
   "outputs": [
    {
     "data": {
      "text/plain": [
       "[201.0,\n",
       " 201.0,\n",
       " 201.0,\n",
       " 201.0,\n",
       " 201.0,\n",
       " 168.16666666666666,\n",
       " 102.83333333333333,\n",
       " 102.83333333333333,\n",
       " 70.33333333333333,\n",
       " 70.33333333333333,\n",
       " 102.83333333333333,\n",
       " 102.83333333333333,\n",
       " 168.16666666666666,\n",
       " 201.0,\n",
       " 201.0,\n",
       " 201.0]"
      ]
     },
     "execution_count": 24,
     "metadata": {},
     "output_type": "execute_result"
    }
   ],
   "source": [
    "qs"
   ]
  },
  {
   "cell_type": "code",
   "execution_count": 28,
   "metadata": {},
   "outputs": [
    {
     "data": {
      "text/plain": [
       "16"
      ]
     },
     "execution_count": 28,
     "metadata": {},
     "output_type": "execute_result"
    }
   ],
   "source": [
    "len(qs)"
   ]
  },
  {
   "cell_type": "code",
   "execution_count": 30,
   "metadata": {},
   "outputs": [
    {
     "data": {
      "text/plain": [
       "3.149033612103871e-05"
      ]
     },
     "execution_count": 30,
     "metadata": {},
     "output_type": "execute_result"
    }
   ],
   "source": [
    "control_turn"
   ]
  },
  {
   "cell_type": "code",
   "execution_count": 288,
   "metadata": {},
   "outputs": [
    {
     "data": {
      "text/plain": [
       "1"
      ]
     },
     "execution_count": 288,
     "metadata": {},
     "output_type": "execute_result"
    }
   ],
   "source": [
    "avoidance\n"
   ]
  },
  {
   "cell_type": "code",
   "execution_count": 86,
   "metadata": {},
   "outputs": [
    {
     "data": {
      "text/plain": [
       "0.1"
      ]
     },
     "execution_count": 86,
     "metadata": {},
     "output_type": "execute_result"
    }
   ],
   "source": [
    "control_speed"
   ]
  },
  {
   "cell_type": "code",
   "execution_count": 89,
   "metadata": {},
   "outputs": [
    {
     "data": {
      "text/plain": [
       "nan"
      ]
     },
     "execution_count": 89,
     "metadata": {},
     "output_type": "execute_result"
    }
   ],
   "source": []
  },
  {
   "cell_type": "code",
   "execution_count": 55,
   "metadata": {},
   "outputs": [
    {
     "data": {
      "text/plain": [
       "(inf,\n",
       " inf,\n",
       " inf,\n",
       " inf,\n",
       " inf,\n",
       " inf,\n",
       " inf,\n",
       " inf,\n",
       " inf,\n",
       " inf,\n",
       " inf,\n",
       " inf,\n",
       " inf,\n",
       " inf,\n",
       " inf,\n",
       " inf,\n",
       " inf,\n",
       " inf,\n",
       " inf,\n",
       " inf,\n",
       " inf,\n",
       " inf,\n",
       " inf,\n",
       " inf,\n",
       " inf,\n",
       " inf,\n",
       " inf,\n",
       " inf,\n",
       " inf,\n",
       " inf,\n",
       " inf,\n",
       " inf,\n",
       " inf,\n",
       " inf,\n",
       " inf,\n",
       " inf,\n",
       " inf,\n",
       " inf,\n",
       " inf,\n",
       " inf,\n",
       " inf,\n",
       " inf,\n",
       " inf,\n",
       " inf,\n",
       " inf,\n",
       " inf,\n",
       " inf,\n",
       " inf,\n",
       " inf,\n",
       " inf,\n",
       " inf,\n",
       " inf,\n",
       " inf,\n",
       " inf,\n",
       " inf,\n",
       " inf,\n",
       " inf,\n",
       " inf,\n",
       " inf,\n",
       " inf,\n",
       " inf,\n",
       " inf,\n",
       " inf,\n",
       " inf,\n",
       " inf,\n",
       " inf,\n",
       " inf,\n",
       " inf,\n",
       " inf,\n",
       " inf,\n",
       " inf,\n",
       " inf,\n",
       " inf,\n",
       " inf,\n",
       " inf,\n",
       " inf,\n",
       " inf,\n",
       " inf,\n",
       " inf,\n",
       " inf,\n",
       " inf,\n",
       " inf,\n",
       " inf,\n",
       " inf,\n",
       " inf,\n",
       " inf,\n",
       " inf,\n",
       " inf,\n",
       " inf,\n",
       " inf,\n",
       " inf,\n",
       " inf,\n",
       " inf,\n",
       " inf,\n",
       " inf,\n",
       " inf,\n",
       " inf,\n",
       " inf,\n",
       " inf,\n",
       " inf,\n",
       " inf,\n",
       " inf,\n",
       " inf,\n",
       " inf,\n",
       " inf,\n",
       " inf,\n",
       " inf,\n",
       " inf,\n",
       " inf,\n",
       " inf,\n",
       " inf,\n",
       " inf,\n",
       " inf,\n",
       " inf,\n",
       " inf,\n",
       " inf,\n",
       " inf,\n",
       " inf,\n",
       " inf,\n",
       " inf,\n",
       " inf,\n",
       " inf,\n",
       " 0.9049496054649353,\n",
       " 0.8850511312484741,\n",
       " 0.8630180954933167,\n",
       " 0.8828028440475464,\n",
       " 0.8545817732810974,\n",
       " 0.8409129977226257,\n",
       " 0.846435010433197,\n",
       " 0.8359984159469604,\n",
       " 0.8141589164733887,\n",
       " 0.8099699020385742,\n",
       " 0.7973828315734863,\n",
       " 0.794128954410553,\n",
       " 0.7882584929466248,\n",
       " 0.790851891040802,\n",
       " 0.7907170653343201,\n",
       " 0.7794042229652405,\n",
       " 0.7833946347236633,\n",
       " 0.7704943418502808,\n",
       " 0.7605194449424744,\n",
       " 0.7478095889091492,\n",
       " 0.7529439926147461,\n",
       " 0.7564741373062134,\n",
       " 0.7586101293563843,\n",
       " 0.7530731558799744,\n",
       " 0.7586055994033813,\n",
       " 0.7446644902229309,\n",
       " 0.7416139841079712,\n",
       " 0.7398983836174011,\n",
       " 0.7419121265411377,\n",
       " 0.747480571269989,\n",
       " 0.7417993545532227,\n",
       " 0.7490432858467102,\n",
       " 0.7339531779289246,\n",
       " 0.7254051566123962,\n",
       " 0.7373142242431641,\n",
       " 0.748896598815918,\n",
       " 0.7459010481834412,\n",
       " 0.7549436092376709,\n",
       " 0.7361575961112976,\n",
       " 0.7429769039154053,\n",
       " 0.7481157779693604,\n",
       " 0.7373484373092651,\n",
       " 0.753274142742157,\n",
       " 0.7509613037109375,\n",
       " 0.7706177234649658,\n",
       " 0.7345024347305298,\n",
       " 0.7530729174613953,\n",
       " 0.770658016204834,\n",
       " 0.750097930431366,\n",
       " 0.7499057650566101,\n",
       " 0.7760698795318604,\n",
       " 0.7710237503051758,\n",
       " 0.781995952129364,\n",
       " 0.7840822339057922,\n",
       " 0.7851528525352478,\n",
       " 0.8015224933624268,\n",
       " 0.8050883412361145,\n",
       " 0.7936668395996094,\n",
       " 0.7972113490104675,\n",
       " 0.8222724795341492,\n",
       " 0.8245373368263245,\n",
       " 0.8502585887908936,\n",
       " 0.8426884412765503,\n",
       " 0.855233371257782,\n",
       " 0.8537461161613464,\n",
       " 0.8621848821640015,\n",
       " 0.8687509894371033,\n",
       " 0.8911344408988953,\n",
       " inf,\n",
       " inf,\n",
       " inf,\n",
       " inf,\n",
       " inf,\n",
       " inf,\n",
       " inf,\n",
       " inf,\n",
       " inf,\n",
       " inf,\n",
       " inf,\n",
       " inf,\n",
       " inf,\n",
       " inf,\n",
       " inf,\n",
       " inf,\n",
       " inf,\n",
       " inf,\n",
       " inf,\n",
       " inf,\n",
       " inf,\n",
       " inf,\n",
       " inf,\n",
       " inf,\n",
       " inf,\n",
       " inf,\n",
       " inf,\n",
       " inf,\n",
       " inf,\n",
       " inf,\n",
       " inf,\n",
       " inf,\n",
       " inf,\n",
       " inf,\n",
       " inf,\n",
       " inf,\n",
       " inf,\n",
       " inf,\n",
       " inf,\n",
       " inf,\n",
       " inf,\n",
       " inf,\n",
       " inf,\n",
       " inf,\n",
       " inf,\n",
       " inf,\n",
       " inf,\n",
       " inf,\n",
       " inf,\n",
       " inf,\n",
       " inf,\n",
       " inf,\n",
       " inf,\n",
       " inf,\n",
       " inf,\n",
       " inf,\n",
       " inf,\n",
       " inf,\n",
       " inf,\n",
       " inf,\n",
       " inf,\n",
       " inf,\n",
       " inf,\n",
       " inf,\n",
       " inf,\n",
       " inf,\n",
       " inf,\n",
       " inf,\n",
       " inf,\n",
       " inf,\n",
       " inf,\n",
       " inf,\n",
       " inf,\n",
       " inf,\n",
       " inf,\n",
       " inf,\n",
       " inf,\n",
       " inf,\n",
       " inf,\n",
       " inf,\n",
       " inf,\n",
       " inf,\n",
       " inf,\n",
       " inf,\n",
       " inf,\n",
       " inf,\n",
       " inf,\n",
       " inf,\n",
       " inf,\n",
       " inf,\n",
       " inf,\n",
       " inf,\n",
       " inf,\n",
       " inf,\n",
       " inf,\n",
       " inf,\n",
       " inf,\n",
       " inf,\n",
       " inf,\n",
       " inf,\n",
       " inf,\n",
       " inf,\n",
       " inf,\n",
       " inf,\n",
       " inf,\n",
       " inf,\n",
       " inf,\n",
       " inf,\n",
       " inf,\n",
       " inf,\n",
       " inf,\n",
       " inf,\n",
       " inf,\n",
       " inf,\n",
       " inf,\n",
       " inf,\n",
       " inf,\n",
       " inf,\n",
       " inf,\n",
       " inf,\n",
       " inf,\n",
       " inf,\n",
       " inf,\n",
       " inf,\n",
       " inf,\n",
       " inf,\n",
       " inf,\n",
       " inf,\n",
       " inf,\n",
       " inf,\n",
       " inf,\n",
       " inf,\n",
       " inf,\n",
       " inf,\n",
       " inf,\n",
       " inf,\n",
       " inf,\n",
       " inf,\n",
       " inf,\n",
       " inf,\n",
       " inf,\n",
       " inf,\n",
       " inf,\n",
       " inf,\n",
       " inf,\n",
       " inf,\n",
       " inf,\n",
       " inf,\n",
       " inf,\n",
       " inf,\n",
       " inf,\n",
       " inf,\n",
       " inf,\n",
       " inf,\n",
       " inf,\n",
       " inf,\n",
       " inf,\n",
       " inf,\n",
       " inf,\n",
       " inf,\n",
       " inf,\n",
       " inf,\n",
       " inf,\n",
       " inf,\n",
       " inf,\n",
       " inf,\n",
       " inf,\n",
       " inf,\n",
       " inf,\n",
       " inf)"
      ]
     },
     "execution_count": 55,
     "metadata": {},
     "output_type": "execute_result"
    }
   ],
   "source": [
    "sc"
   ]
  },
  {
   "cell_type": "code",
   "execution_count": 120,
   "metadata": {},
   "outputs": [
    {
     "data": {
      "text/plain": [
       "True"
      ]
     },
     "execution_count": 120,
     "metadata": {},
     "output_type": "execute_result"
    }
   ],
   "source": [
    "sc[0]==np.inf"
   ]
  },
  {
   "cell_type": "code",
   "execution_count": null,
   "metadata": {},
   "outputs": [],
   "source": []
  }
 ],
 "metadata": {
  "kernelspec": {
   "display_name": "Python 3",
   "language": "python",
   "name": "python3"
  },
  "language_info": {
   "codemirror_mode": {
    "name": "ipython",
    "version": 3
   },
   "file_extension": ".py",
   "mimetype": "text/x-python",
   "name": "python",
   "nbconvert_exporter": "python",
   "pygments_lexer": "ipython3",
   "version": "3.8.5"
  }
 },
 "nbformat": 4,
 "nbformat_minor": 4
}
