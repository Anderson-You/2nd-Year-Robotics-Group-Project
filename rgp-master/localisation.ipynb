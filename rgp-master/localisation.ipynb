{
 "cells": [
  {
   "cell_type": "code",
   "execution_count": 1,
   "id": "paperback-hormone",
   "metadata": {},
   "outputs": [],
   "source": [
    "%config Completer.use_jedi = False\n",
    "line = [True,False,True,True,False,True,True,True,False,False]\n",
    "probabilities = [0.1]*len(line)\n",
    "pos = len(line)//2\n",
    "states = list(range(len(probabilities)))"
   ]
  },
  {
   "cell_type": "code",
   "execution_count": 2,
   "id": "traditional-edinburgh",
   "metadata": {},
   "outputs": [],
   "source": [
    "sensor_acc = 0.9\n",
    "move_acc = 0.95"
   ]
  },
  {
   "cell_type": "code",
   "execution_count": 3,
   "id": "alive-microwave",
   "metadata": {},
   "outputs": [],
   "source": [
    "def p_y(e):\n",
    "    s = 0\n",
    "    for i in states:\n",
    "        s+= p_y_x(e,i)*probabilities[i]\n",
    "        \n",
    "    return s\n",
    "\n",
    "def p_y_x(y,x):\n",
    "    inv = line[x] != y\n",
    "    \n",
    "    if inv:\n",
    "        return 1-sensor_acc\n",
    "    return sensor_acc\n",
    "\n",
    "def p_x_y(x,y):\n",
    "    return (p_y_x(y,x) * probabilities[x])/p_y(y)\n",
    "\n",
    "def updateState():\n",
    "    global probabilities\n",
    "    reading = line[pos]\n",
    "    probabilities = list(map(lambda x:p_x_y(x,reading),states))\n",
    "\n",
    "def moveLeft():\n",
    "    global pos\n",
    "    # global probabilities\n",
    "    \n",
    "    pos += -1\n",
    "    reading = line[pos]\n",
    "    \n",
    "    for i in states[:-1]:\n",
    "        probabilities[i] = probabilities[i] * (1-move_acc) + probabilities[i+1] * move_acc\n",
    "        \n",
    "    probabilities[-1] = probabilities[i] * (1-move_acc)\n",
    "    updateState()\n",
    "    \n",
    "def moveRight():\n",
    "    global pos\n",
    "    #global probabilities\n",
    "    \n",
    "    pos += 1\n",
    "    reading = line[pos]\n",
    "    \n",
    "    for i in states[:1:-1]:\n",
    "        probabilities[i] = probabilities[i] * (1-move_acc) + probabilities[i-1] * move_acc\n",
    "        \n",
    "    probabilities[0] = probabilities[i] * (1-move_acc)\n",
    "    updateState()"
   ]
  },
  {
   "cell_type": "code",
   "execution_count": 5,
   "id": "outstanding-mistress",
   "metadata": {},
   "outputs": [],
   "source": [
    "probabilities = [0.1]*len(line)\n",
    "pos = 5#len(line)//2"
   ]
  },
  {
   "cell_type": "code",
   "execution_count": 6,
   "id": "precise-johns",
   "metadata": {},
   "outputs": [],
   "source": [
    "updateState()"
   ]
  },
  {
   "cell_type": "code",
   "execution_count": 230,
   "id": "prime-compound",
   "metadata": {},
   "outputs": [],
   "source": [
    "for i in range(3):\n",
    "    moveLeft()\n",
    "    \n",
    "for i in range(3):\n",
    "    moveRight()"
   ]
  },
  {
   "cell_type": "code",
   "execution_count": 8,
   "id": "changed-copper",
   "metadata": {},
   "outputs": [
    {
     "data": {
      "text/plain": [
       "True"
      ]
     },
     "execution_count": 8,
     "metadata": {},
     "output_type": "execute_result"
    }
   ],
   "source": []
  },
  {
   "cell_type": "code",
   "execution_count": 7,
   "id": "fewer-world",
   "metadata": {},
   "outputs": [
    {
     "data": {
      "text/plain": [
       "<BarContainer object of 11 artists>"
      ]
     },
     "execution_count": 7,
     "metadata": {},
     "output_type": "execute_result"
    },
    {
     "data": {
      "image/png": "[encoded data removed]",
      "text/plain": [
       "<Figure size 432x288 with 1 Axes>"
      ]
     },
     "metadata": {
      "needs_background": "light"
     },
     "output_type": "display_data"
    }
   ],
   "source": [
    "import numpy as np\n",
    "import matplotlib.pyplot as plt\n",
    "plt.bar(states+[len(states)+1],probabilities+[sum(probabilities)])"
   ]
  },
  {
   "cell_type": "markdown",
   "id": "norman-insight",
   "metadata": {},
   "source": [
    "* p(y) "
   ]
  }
 ],
 "metadata": {
  "kernelspec": {
   "display_name": "Python 3",
   "language": "python",
   "name": "python3"
  },
  "language_info": {
   "codemirror_mode": {
    "name": "ipython",
    "version": 3
   },
   "file_extension": ".py",
   "mimetype": "text/x-python",
   "name": "python",
   "nbconvert_exporter": "python",
   "pygments_lexer": "ipython3",
   "version": "3.6.9"
  }
 },
 "nbformat": 4,
 "nbformat_minor": 5
}
