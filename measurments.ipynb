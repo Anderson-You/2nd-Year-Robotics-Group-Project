{
 "cells": [
  {
   "cell_type": "code",
   "execution_count": 1,
   "id": "successful-values",
   "metadata": {},
   "outputs": [],
   "source": [
    "import rospy as rp\n",
    "import jupyros as jr\n",
    "import numpy as np"
   ]
  },
  {
   "cell_type": "code",
   "execution_count": 2,
   "id": "modern-double",
   "metadata": {},
   "outputs": [],
   "source": [
    "from geometry_msgs.msg import Pose\n",
    "rp.init_node('runner')"
   ]
  },
  {
   "cell_type": "code",
   "execution_count": 3,
   "id": "polyphonic-oregon",
   "metadata": {},
   "outputs": [],
   "source": [
    "from geometry_msgs.msg import Pose, Twist\n",
    "import math\n",
    "from sensor_msgs.msg import Image,Illuminance,LaserScan\n",
    "#import cv2\n",
    "import time"
   ]
  },
  {
   "cell_type": "code",
   "execution_count": 4,
   "id": "overall-proxy",
   "metadata": {},
   "outputs": [],
   "source": [
    "pub = rp.Publisher('/cmd_vel', Twist,queue_size=10)"
   ]
  },
  {
   "cell_type": "code",
   "execution_count": 7,
   "id": "arranged-original",
   "metadata": {},
   "outputs": [],
   "source": [
    "pattern = [\n",
    "    [0.1,8,0],\n",
    "    [0,1,0],\n",
    "    [0,2,np.pi/4],\n",
    "    [0,1,0],    \n",
    "    [0.1,5,0],\n",
    "    [0,1,0],\n",
    "    [0,4,-(np.pi-np.pi/4)/4],\n",
    "    [0,1,0],    \n",
    "    [0.1,5,0]\n",
    "]"
   ]
  },
  {
   "cell_type": "code",
   "execution_count": 8,
   "id": "integrated-chinese",
   "metadata": {},
   "outputs": [
    {
     "name": "stdout",
     "output_type": "stream",
     "text": [
      "0.1 8 0\n",
      "0 1 0\n",
      "0 2 0.7853981633974483\n",
      "0 1 0\n",
      "0.1 5 0\n",
      "0 1 0\n",
      "0 4 -0.5890486225480862\n",
      "0 1 0\n"
     ]
    },
    {
     "ename": "KeyboardInterrupt",
     "evalue": "",
     "output_type": "error",
     "traceback": [
      "\u001b[0;31m---------------------------------------------------------------------------\u001b[0m",
      "\u001b[0;31mKeyboardInterrupt\u001b[0m                         Traceback (most recent call last)",
      "\u001b[0;32m<ipython-input-8-64f5fa96a9be>\u001b[0m in \u001b[0;36m<module>\u001b[0;34m\u001b[0m\n\u001b[1;32m     12\u001b[0m     \u001b[0mlast_turn\u001b[0m \u001b[0;34m=\u001b[0m \u001b[0mcontrol_turn\u001b[0m\u001b[0;34m\u001b[0m\u001b[0;34m\u001b[0m\u001b[0m\n\u001b[1;32m     13\u001b[0m \u001b[0;34m\u001b[0m\u001b[0m\n\u001b[0;32m---> 14\u001b[0;31m     \u001b[0mtime\u001b[0m\u001b[0;34m.\u001b[0m\u001b[0msleep\u001b[0m\u001b[0;34m(\u001b[0m\u001b[0mt\u001b[0m\u001b[0;34m)\u001b[0m\u001b[0;34m\u001b[0m\u001b[0;34m\u001b[0m\u001b[0m\n\u001b[0m\u001b[1;32m     15\u001b[0m \u001b[0;34m\u001b[0m\u001b[0m\n\u001b[1;32m     16\u001b[0m \u001b[0mcontrol_speed\u001b[0m \u001b[0;34m=\u001b[0m \u001b[0;36m0\u001b[0m\u001b[0;34m\u001b[0m\u001b[0;34m\u001b[0m\u001b[0m\n",
      "\u001b[0;31mKeyboardInterrupt\u001b[0m: "
     ]
    },
    {
     "name": "stdout",
     "output_type": "stream",
     "text": [
      "shutdown request: [/runner] Reason: new node registered with same name\n"
     ]
    }
   ],
   "source": [
    "for row in pattern:\n",
    "    control_speed,t,control_turn = row\n",
    "\n",
    "    print(control_speed,t,control_turn)\n",
    "    \n",
    "    twist = Twist()\n",
    "    twist.linear.x = control_speed*3; twist.linear.y = 0; twist.linear.z = 0\n",
    "    twist.angular.x = 0; twist.angular.y = 0; twist.angular.z = control_turn\n",
    "    pub.publish(twist)\n",
    "\n",
    "    last_speed = control_speed\n",
    "    last_turn = control_turn\n",
    "\n",
    "    time.sleep(t)\n",
    "\n",
    "control_speed = 0\n",
    "control_turn = 0\n",
    "\n",
    "twist = Twist()\n",
    "twist.linear.x = control_speed; twist.linear.y = 0; twist.linear.z = 0\n",
    "twist.angular.x = 0; twist.angular.y = 0; twist.angular.z = control_turn\n",
    "pub.publish(twist)"
   ]
  },
  {
   "cell_type": "code",
   "execution_count": null,
   "id": "searching-india",
   "metadata": {},
   "outputs": [],
   "source": []
  }
 ],
 "metadata": {
  "kernelspec": {
   "display_name": "Python 3",
   "language": "python",
   "name": "python3"
  },
  "language_info": {
   "codemirror_mode": {
    "name": "ipython",
    "version": 3
   },
   "file_extension": ".py",
   "mimetype": "text/x-python",
   "name": "python",
   "nbconvert_exporter": "python",
   "pygments_lexer": "ipython3",
   "version": "3.6.9"
  }
 },
 "nbformat": 4,
 "nbformat_minor": 5
}
